{
 "cells": [
  {
   "cell_type": "markdown",
   "id": "3bbfb275-5864-4f4c-a3bd-14531f135194",
   "metadata": {},
   "source": [
    "# 4.9: Intro to Data Visualization with Python"
   ]
  },
  {
   "cell_type": "markdown",
   "id": "ab005aa3-8c63-4943-a6f9-1eab5cc20517",
   "metadata": {},
   "source": [
    "## 1. Creating a Bar Chart"
   ]
  },
  {
   "cell_type": "markdown",
   "id": "331da72a-151a-4e4e-8cfc-d1746dd52030",
   "metadata": {},
   "source": [
    "## 2. Creating a Histogram"
   ]
  },
  {
   "cell_type": "markdown",
   "id": "04c8b2be-602b-4f0d-b231-8e696c33be4b",
   "metadata": {},
   "source": [
    "## 3. Creating a Scatter Plot"
   ]
  },
  {
   "cell_type": "markdown",
   "id": "2b600e6f-1601-43ab-a830-68b7ab261bb6",
   "metadata": {},
   "source": [
    "## 4. Creating a Line Chart\n",
    "\n",
    "Creating a Sampling Data"
   ]
  },
  {
   "cell_type": "code",
   "execution_count": null,
   "id": "36637f04-600e-42b1-a913-fc079d2b4681",
   "metadata": {},
   "outputs": [],
   "source": []
  },
  {
   "cell_type": "markdown",
   "id": "c07ef855-d762-453d-90c6-f7d23fe4cd5a",
   "metadata": {},
   "source": [
    "## 1. Creating a bar chart"
   ]
  },
  {
   "cell_type": "code",
   "execution_count": 1,
   "id": "6e1965ef-29d4-4dcb-b01f-7e454392241b",
   "metadata": {},
   "outputs": [],
   "source": [
    "import pandas as pd\n",
    "import numpy as np\n",
    "import os\n",
    "import matplotlib.pyplot as plt\n",
    "import seaborn as sns\n",
    "import scipy"
   ]
  },
  {
   "cell_type": "code",
   "execution_count": 2,
   "id": "f79f9b09-dc20-4391-910d-98e51cee4af6",
   "metadata": {},
   "outputs": [],
   "source": [
    "path = r\"C:\\Users\\azikb\\Downloads\\Data Immersion. Assiginment 4. Python. Instacart Basket Analysis\""
   ]
  },
  {
   "cell_type": "code",
   "execution_count": 7,
   "id": "5a3a5e0b-e6ca-492c-a257-c9ca1a61a587",
   "metadata": {},
   "outputs": [],
   "source": [
    "ords_prods_merge = pd.read_pickle(os.path.join(path, '02 Data', 'Prepared Data', 'ords_prods_grouped.pkl'))"
   ]
  },
  {
   "cell_type": "code",
   "execution_count": 56,
   "id": "4bcb1fdf-3d1a-4ba7-99f5-e0017db0b22b",
   "metadata": {},
   "outputs": [
    {
     "data": {
      "text/html": [
       "<div>\n",
       "<style scoped>\n",
       "    .dataframe tbody tr th:only-of-type {\n",
       "        vertical-align: middle;\n",
       "    }\n",
       "\n",
       "    .dataframe tbody tr th {\n",
       "        vertical-align: top;\n",
       "    }\n",
       "\n",
       "    .dataframe thead th {\n",
       "        text-align: right;\n",
       "    }\n",
       "</style>\n",
       "<table border=\"1\" class=\"dataframe\">\n",
       "  <thead>\n",
       "    <tr style=\"text-align: right;\">\n",
       "      <th></th>\n",
       "      <th>order_id</th>\n",
       "      <th>user_id</th>\n",
       "      <th>order_number</th>\n",
       "      <th>order_day_of_week</th>\n",
       "      <th>order_hour_of_day</th>\n",
       "      <th>days_since_prior_order</th>\n",
       "      <th>product_id</th>\n",
       "      <th>add_to_cart_order</th>\n",
       "      <th>reordered</th>\n",
       "      <th>product_name</th>\n",
       "      <th>...</th>\n",
       "      <th>_merge</th>\n",
       "      <th>price_range_loc</th>\n",
       "      <th>busiest_day</th>\n",
       "      <th>busiest_period_of_day</th>\n",
       "      <th>max_order</th>\n",
       "      <th>loyalty_flag</th>\n",
       "      <th>avg_price</th>\n",
       "      <th>Spending_flag</th>\n",
       "      <th>days_since_prior_order_median</th>\n",
       "      <th>Frequency_flag</th>\n",
       "    </tr>\n",
       "  </thead>\n",
       "  <tbody>\n",
       "    <tr>\n",
       "      <th>0</th>\n",
       "      <td>2539329</td>\n",
       "      <td>1</td>\n",
       "      <td>1</td>\n",
       "      <td>2</td>\n",
       "      <td>8</td>\n",
       "      <td>NaN</td>\n",
       "      <td>196</td>\n",
       "      <td>1</td>\n",
       "      <td>0</td>\n",
       "      <td>Soda</td>\n",
       "      <td>...</td>\n",
       "      <td>both</td>\n",
       "      <td>Mid-range product</td>\n",
       "      <td>Regulary days</td>\n",
       "      <td>Average orders</td>\n",
       "      <td>10</td>\n",
       "      <td>New customer</td>\n",
       "      <td>6.367797</td>\n",
       "      <td>Low spender</td>\n",
       "      <td>20.5</td>\n",
       "      <td>Non-frequent Customer</td>\n",
       "    </tr>\n",
       "    <tr>\n",
       "      <th>1</th>\n",
       "      <td>2398795</td>\n",
       "      <td>1</td>\n",
       "      <td>2</td>\n",
       "      <td>3</td>\n",
       "      <td>7</td>\n",
       "      <td>15.0</td>\n",
       "      <td>196</td>\n",
       "      <td>1</td>\n",
       "      <td>1</td>\n",
       "      <td>Soda</td>\n",
       "      <td>...</td>\n",
       "      <td>both</td>\n",
       "      <td>Mid-range product</td>\n",
       "      <td>Slowest days</td>\n",
       "      <td>Average orders</td>\n",
       "      <td>10</td>\n",
       "      <td>New customer</td>\n",
       "      <td>6.367797</td>\n",
       "      <td>Low spender</td>\n",
       "      <td>20.5</td>\n",
       "      <td>Non-frequent Customer</td>\n",
       "    </tr>\n",
       "    <tr>\n",
       "      <th>2</th>\n",
       "      <td>473747</td>\n",
       "      <td>1</td>\n",
       "      <td>3</td>\n",
       "      <td>3</td>\n",
       "      <td>12</td>\n",
       "      <td>21.0</td>\n",
       "      <td>196</td>\n",
       "      <td>1</td>\n",
       "      <td>1</td>\n",
       "      <td>Soda</td>\n",
       "      <td>...</td>\n",
       "      <td>both</td>\n",
       "      <td>Mid-range product</td>\n",
       "      <td>Slowest days</td>\n",
       "      <td>Most orders</td>\n",
       "      <td>10</td>\n",
       "      <td>New customer</td>\n",
       "      <td>6.367797</td>\n",
       "      <td>Low spender</td>\n",
       "      <td>20.5</td>\n",
       "      <td>Non-frequent Customer</td>\n",
       "    </tr>\n",
       "    <tr>\n",
       "      <th>3</th>\n",
       "      <td>2254736</td>\n",
       "      <td>1</td>\n",
       "      <td>4</td>\n",
       "      <td>4</td>\n",
       "      <td>7</td>\n",
       "      <td>29.0</td>\n",
       "      <td>196</td>\n",
       "      <td>1</td>\n",
       "      <td>1</td>\n",
       "      <td>Soda</td>\n",
       "      <td>...</td>\n",
       "      <td>both</td>\n",
       "      <td>Mid-range product</td>\n",
       "      <td>Slowest days</td>\n",
       "      <td>Average orders</td>\n",
       "      <td>10</td>\n",
       "      <td>New customer</td>\n",
       "      <td>6.367797</td>\n",
       "      <td>Low spender</td>\n",
       "      <td>20.5</td>\n",
       "      <td>Non-frequent Customer</td>\n",
       "    </tr>\n",
       "    <tr>\n",
       "      <th>4</th>\n",
       "      <td>431534</td>\n",
       "      <td>1</td>\n",
       "      <td>5</td>\n",
       "      <td>4</td>\n",
       "      <td>15</td>\n",
       "      <td>28.0</td>\n",
       "      <td>196</td>\n",
       "      <td>1</td>\n",
       "      <td>1</td>\n",
       "      <td>Soda</td>\n",
       "      <td>...</td>\n",
       "      <td>both</td>\n",
       "      <td>Mid-range product</td>\n",
       "      <td>Slowest days</td>\n",
       "      <td>Most orders</td>\n",
       "      <td>10</td>\n",
       "      <td>New customer</td>\n",
       "      <td>6.367797</td>\n",
       "      <td>Low spender</td>\n",
       "      <td>20.5</td>\n",
       "      <td>Non-frequent Customer</td>\n",
       "    </tr>\n",
       "  </tbody>\n",
       "</table>\n",
       "<p>5 rows × 23 columns</p>\n",
       "</div>"
      ],
      "text/plain": [
       "   order_id  user_id  order_number  order_day_of_week  order_hour_of_day  \\\n",
       "0   2539329        1             1                  2                  8   \n",
       "1   2398795        1             2                  3                  7   \n",
       "2    473747        1             3                  3                 12   \n",
       "3   2254736        1             4                  4                  7   \n",
       "4    431534        1             5                  4                 15   \n",
       "\n",
       "   days_since_prior_order  product_id  add_to_cart_order  reordered  \\\n",
       "0                     NaN         196                  1          0   \n",
       "1                    15.0         196                  1          1   \n",
       "2                    21.0         196                  1          1   \n",
       "3                    29.0         196                  1          1   \n",
       "4                    28.0         196                  1          1   \n",
       "\n",
       "  product_name  ...  _merge    price_range_loc    busiest_day  \\\n",
       "0         Soda  ...    both  Mid-range product  Regulary days   \n",
       "1         Soda  ...    both  Mid-range product   Slowest days   \n",
       "2         Soda  ...    both  Mid-range product   Slowest days   \n",
       "3         Soda  ...    both  Mid-range product   Slowest days   \n",
       "4         Soda  ...    both  Mid-range product   Slowest days   \n",
       "\n",
       "  busiest_period_of_day max_order  loyalty_flag avg_price  Spending_flag  \\\n",
       "0        Average orders        10  New customer  6.367797    Low spender   \n",
       "1        Average orders        10  New customer  6.367797    Low spender   \n",
       "2           Most orders        10  New customer  6.367797    Low spender   \n",
       "3        Average orders        10  New customer  6.367797    Low spender   \n",
       "4           Most orders        10  New customer  6.367797    Low spender   \n",
       "\n",
       "  days_since_prior_order_median         Frequency_flag  \n",
       "0                          20.5  Non-frequent Customer  \n",
       "1                          20.5  Non-frequent Customer  \n",
       "2                          20.5  Non-frequent Customer  \n",
       "3                          20.5  Non-frequent Customer  \n",
       "4                          20.5  Non-frequent Customer  \n",
       "\n",
       "[5 rows x 23 columns]"
      ]
     },
     "execution_count": 56,
     "metadata": {},
     "output_type": "execute_result"
    }
   ],
   "source": [
    "ords_prods_merge.head()"
   ]
  },
  {
   "cell_type": "code",
   "execution_count": 16,
   "id": "6913d3ff-8346-4cd2-b951-3ba2939e4b48",
   "metadata": {},
   "outputs": [
    {
     "data": {
      "text/plain": [
       "<Axes: xlabel='order_day_of_week'>"
      ]
     },
     "execution_count": 16,
     "metadata": {},
     "output_type": "execute_result"
    },
    {
     "data": {
      "image/png": "[encoded data removed]",
      "text/plain": [
       "<Figure size 640x480 with 1 Axes>"
      ]
     },
     "metadata": {},
     "output_type": "display_data"
    }
   ],
   "source": [
    "# Creating a bar chart from largest to smallest.\n",
    "ords_prods_merge['order_day_of_week'].value_counts().plot.bar()"
   ]
  },
  {
   "cell_type": "code",
   "execution_count": 18,
   "id": "d1779f91-7a13-4dd4-a6d9-3e26332703dd",
   "metadata": {},
   "outputs": [
    {
     "data": {
      "text/plain": [
       "<Axes: xlabel='order_day_of_week'>"
      ]
     },
     "execution_count": 18,
     "metadata": {},
     "output_type": "execute_result"
    },
    {
     "data": {
      "image/png": "[encoded data removed]",
      "text/plain": [
       "<Figure size 640x480 with 1 Axes>"
      ]
     },
     "metadata": {},
     "output_type": "display_data"
    }
   ],
   "source": [
    "# Creating a bar chart sorted by index order\n",
    "ords_prods_merge['order_day_of_week'].value_counts().sort_index().plot.bar()"
   ]
  },
  {
   "cell_type": "markdown",
   "id": "1bcf193b-32f5-4218-b9c8-8115307b0757",
   "metadata": {},
   "source": [
    "##### We can use sort_index function to sort by index any columns..."
   ]
  },
  {
   "cell_type": "code",
   "execution_count": 19,
   "id": "dcda33d0-ccd3-4e37-aa7c-4fb089434c54",
   "metadata": {},
   "outputs": [
    {
     "data": {
      "text/plain": [
       "order_day_of_week\n",
       "0    6204182\n",
       "1    5660230\n",
       "6    4496490\n",
       "2    4213830\n",
       "5    4205791\n",
       "3    3840534\n",
       "4    3783802\n",
       "Name: count, dtype: int64"
      ]
     },
     "execution_count": 19,
     "metadata": {},
     "output_type": "execute_result"
    }
   ],
   "source": [
    "ords_prods_merge['order_day_of_week'].value_counts()"
   ]
  },
  {
   "cell_type": "code",
   "execution_count": 20,
   "id": "3e63a140-cd39-4449-853c-cc2c033730f8",
   "metadata": {},
   "outputs": [
    {
     "data": {
      "text/plain": [
       "order_day_of_week\n",
       "0    6204182\n",
       "1    5660230\n",
       "2    4213830\n",
       "3    3840534\n",
       "4    3783802\n",
       "5    4205791\n",
       "6    4496490\n",
       "Name: count, dtype: int64"
      ]
     },
     "execution_count": 20,
     "metadata": {},
     "output_type": "execute_result"
    }
   ],
   "source": [
    "ords_prods_merge['order_day_of_week'].value_counts().sort_index()"
   ]
  },
  {
   "cell_type": "markdown",
   "id": "e95d12f4-1905-4721-99ee-fd8b188a241d",
   "metadata": {},
   "source": [
    "##### Making a bar chart colorful"
   ]
  },
  {
   "cell_type": "code",
   "execution_count": 21,
   "id": "e67551ee-9fa2-4657-bd12-9d5a38e38793",
   "metadata": {},
   "outputs": [
    {
     "data": {
      "image/png": "[encoded data removed]",
      "text/plain": [
       "<Figure size 640x480 with 1 Axes>"
      ]
     },
     "metadata": {},
     "output_type": "display_data"
    }
   ],
   "source": [
    "bar = ords_prods_merge['order_day_of_week'].value_counts().plot.bar(color =['purple', 'red', 'pink', 'orange', 'yellow', 'green', 'blue'])"
   ]
  },
  {
   "cell_type": "markdown",
   "id": "6daa5ddb-3c98-4344-bc2e-499789807f42",
   "metadata": {},
   "source": [
    "##### Export bar chart from Jupiter"
   ]
  },
  {
   "cell_type": "code",
   "execution_count": 24,
   "id": "ad0be356-f156-4c86-8f5c-666c3ae2a65d",
   "metadata": {},
   "outputs": [],
   "source": [
    "bar.figure.savefig(os.path.join(path, '04 Analysis','Visualizations', 'bar_orders_dow.png'))"
   ]
  },
  {
   "cell_type": "markdown",
   "id": "998abc89-7a0a-499e-9941-62199670a55d",
   "metadata": {},
   "source": [
    "## 2. Creating a Histogram"
   ]
  },
  {
   "cell_type": "code",
   "execution_count": 25,
   "id": "fbeb5553-1275-4ffa-a3e8-e543b2aa3a79",
   "metadata": {},
   "outputs": [
    {
     "data": {
      "text/plain": [
       "<Axes: ylabel='Frequency'>"
      ]
     },
     "execution_count": 25,
     "metadata": {},
     "output_type": "execute_result"
    },
    {
     "data": {
      "image/png": "[encoded data removed]",
      "text/plain": [
       "<Figure size 640x480 with 1 Axes>"
      ]
     },
     "metadata": {},
     "output_type": "display_data"
    }
   ],
   "source": [
    "ords_prods_merge['prices'].plot.hist(bins = 25)"
   ]
  },
  {
   "cell_type": "code",
   "execution_count": 27,
   "id": "0d9c14ca-632a-44b1-bf60-929624f9d479",
   "metadata": {},
   "outputs": [
    {
     "data": {
      "text/plain": [
       "count    3.240486e+07\n",
       "mean     1.198023e+01\n",
       "std      4.956554e+02\n",
       "min      1.000000e+00\n",
       "25%      4.200000e+00\n",
       "50%      7.400000e+00\n",
       "75%      1.130000e+01\n",
       "max      9.999900e+04\n",
       "Name: prices, dtype: float64"
      ]
     },
     "execution_count": 27,
     "metadata": {},
     "output_type": "execute_result"
    }
   ],
   "source": [
    "# doing some statistics\n",
    "ords_prods_merge['prices'].describe()"
   ]
  },
  {
   "cell_type": "code",
   "execution_count": 28,
   "id": "363c671a-3882-46b8-a768-5cdc1f321511",
   "metadata": {},
   "outputs": [
    {
     "data": {
      "text/plain": [
       "99999.0"
      ]
     },
     "execution_count": 28,
     "metadata": {},
     "output_type": "execute_result"
    }
   ],
   "source": [
    "ords_prods_merge['prices'].max()"
   ]
  },
  {
   "cell_type": "code",
   "execution_count": 31,
   "id": "e4114f60-536c-4b7a-a8d1-e263ac92b896",
   "metadata": {},
   "outputs": [
    {
     "data": {
      "text/plain": [
       "7.4"
      ]
     },
     "execution_count": 31,
     "metadata": {},
     "output_type": "execute_result"
    }
   ],
   "source": [
    "ords_prods_merge['prices'].median()"
   ]
  },
  {
   "cell_type": "code",
   "execution_count": 30,
   "id": "95a326a3-9d14-49df-9cef-fff7e03c3363",
   "metadata": {},
   "outputs": [
    {
     "data": {
      "text/plain": [
       "11.980225638383454"
      ]
     },
     "execution_count": 30,
     "metadata": {},
     "output_type": "execute_result"
    }
   ],
   "source": [
    "ords_prods_merge['prices'].mean()"
   ]
  },
  {
   "cell_type": "markdown",
   "id": "b8835545-aff3-4a33-bc24-8be023e4ecb0",
   "metadata": {},
   "source": [
    "## 3. Creating Scatter Plot"
   ]
  },
  {
   "cell_type": "code",
   "execution_count": 32,
   "id": "6d184559-a0ea-45a4-bcdb-51674d5fcfff",
   "metadata": {},
   "outputs": [
    {
     "data": {
      "text/plain": [
       "<Axes: xlabel='prices', ylabel='prices'>"
      ]
     },
     "execution_count": 32,
     "metadata": {},
     "output_type": "execute_result"
    },
    {
     "data": {
      "image/png": "[encoded data removed]",
      "text/plain": [
       "<Figure size 640x480 with 1 Axes>"
      ]
     },
     "metadata": {},
     "output_type": "display_data"
    }
   ],
   "source": [
    "sns.scatterplot(x = 'prices', y = 'prices',data = ords_prods_merge)"
   ]
  },
  {
   "cell_type": "markdown",
   "id": "5ac0b281-aac3-4e37-b4b9-93c299c0713b",
   "metadata": {},
   "source": [
    "##### Finding an outlier"
   ]
  },
  {
   "cell_type": "code",
   "execution_count": 64,
   "id": "4aba0876-6804-425d-be8a-88941b929ea0",
   "metadata": {},
   "outputs": [
    {
     "data": {
      "text/html": [
       "<div>\n",
       "<style scoped>\n",
       "    .dataframe tbody tr th:only-of-type {\n",
       "        vertical-align: middle;\n",
       "    }\n",
       "\n",
       "    .dataframe tbody tr th {\n",
       "        vertical-align: top;\n",
       "    }\n",
       "\n",
       "    .dataframe thead th {\n",
       "        text-align: right;\n",
       "    }\n",
       "</style>\n",
       "<table border=\"1\" class=\"dataframe\">\n",
       "  <thead>\n",
       "    <tr style=\"text-align: right;\">\n",
       "      <th></th>\n",
       "      <th>order_id</th>\n",
       "      <th>user_id</th>\n",
       "      <th>order_number</th>\n",
       "      <th>order_day_of_week</th>\n",
       "      <th>order_hour_of_day</th>\n",
       "      <th>days_since_prior_order</th>\n",
       "      <th>product_id</th>\n",
       "      <th>add_to_cart_order</th>\n",
       "      <th>reordered</th>\n",
       "      <th>product_name</th>\n",
       "      <th>...</th>\n",
       "      <th>prices</th>\n",
       "      <th>price_range_loc</th>\n",
       "      <th>busiest_day</th>\n",
       "      <th>busiest_period_of_day</th>\n",
       "      <th>max_order</th>\n",
       "      <th>loyalty_flag</th>\n",
       "      <th>avg_price</th>\n",
       "      <th>Spending_flag</th>\n",
       "      <th>days_since_prior_order_median</th>\n",
       "      <th>Frequency_flag</th>\n",
       "    </tr>\n",
       "  </thead>\n",
       "  <tbody>\n",
       "    <tr>\n",
       "      <th>10030345</th>\n",
       "      <td>912404</td>\n",
       "      <td>17</td>\n",
       "      <td>12</td>\n",
       "      <td>2</td>\n",
       "      <td>14</td>\n",
       "      <td>5.0</td>\n",
       "      <td>21553</td>\n",
       "      <td>5</td>\n",
       "      <td>0</td>\n",
       "      <td>Lowfat 2% Milkfat Cottage Cheese</td>\n",
       "      <td>...</td>\n",
       "      <td>14900.0</td>\n",
       "      <td>High-range product</td>\n",
       "      <td>Regulary days</td>\n",
       "      <td>Most orders</td>\n",
       "      <td>40</td>\n",
       "      <td>Regular customer</td>\n",
       "      <td>108.648299</td>\n",
       "      <td>High spender</td>\n",
       "      <td>5.0</td>\n",
       "      <td>Frequent Customer</td>\n",
       "    </tr>\n",
       "    <tr>\n",
       "      <th>10030346</th>\n",
       "      <td>603376</td>\n",
       "      <td>17</td>\n",
       "      <td>22</td>\n",
       "      <td>6</td>\n",
       "      <td>16</td>\n",
       "      <td>4.0</td>\n",
       "      <td>21553</td>\n",
       "      <td>3</td>\n",
       "      <td>1</td>\n",
       "      <td>Lowfat 2% Milkfat Cottage Cheese</td>\n",
       "      <td>...</td>\n",
       "      <td>14900.0</td>\n",
       "      <td>High-range product</td>\n",
       "      <td>Regulary days</td>\n",
       "      <td>Most orders</td>\n",
       "      <td>40</td>\n",
       "      <td>Regular customer</td>\n",
       "      <td>108.648299</td>\n",
       "      <td>High spender</td>\n",
       "      <td>5.0</td>\n",
       "      <td>Frequent Customer</td>\n",
       "    </tr>\n",
       "    <tr>\n",
       "      <th>10030347</th>\n",
       "      <td>3264360</td>\n",
       "      <td>135</td>\n",
       "      <td>2</td>\n",
       "      <td>2</td>\n",
       "      <td>21</td>\n",
       "      <td>13.0</td>\n",
       "      <td>21553</td>\n",
       "      <td>6</td>\n",
       "      <td>0</td>\n",
       "      <td>Lowfat 2% Milkfat Cottage Cheese</td>\n",
       "      <td>...</td>\n",
       "      <td>14900.0</td>\n",
       "      <td>High-range product</td>\n",
       "      <td>Regulary days</td>\n",
       "      <td>Average orders</td>\n",
       "      <td>4</td>\n",
       "      <td>New customer</td>\n",
       "      <td>1154.792308</td>\n",
       "      <td>High spender</td>\n",
       "      <td>12.0</td>\n",
       "      <td>Regular customer</td>\n",
       "    </tr>\n",
       "    <tr>\n",
       "      <th>10030348</th>\n",
       "      <td>892534</td>\n",
       "      <td>135</td>\n",
       "      <td>3</td>\n",
       "      <td>0</td>\n",
       "      <td>8</td>\n",
       "      <td>12.0</td>\n",
       "      <td>21553</td>\n",
       "      <td>3</td>\n",
       "      <td>1</td>\n",
       "      <td>Lowfat 2% Milkfat Cottage Cheese</td>\n",
       "      <td>...</td>\n",
       "      <td>14900.0</td>\n",
       "      <td>High-range product</td>\n",
       "      <td>Busiest days</td>\n",
       "      <td>Average orders</td>\n",
       "      <td>4</td>\n",
       "      <td>New customer</td>\n",
       "      <td>1154.792308</td>\n",
       "      <td>High spender</td>\n",
       "      <td>12.0</td>\n",
       "      <td>Regular customer</td>\n",
       "    </tr>\n",
       "    <tr>\n",
       "      <th>10030349</th>\n",
       "      <td>229704</td>\n",
       "      <td>342</td>\n",
       "      <td>8</td>\n",
       "      <td>1</td>\n",
       "      <td>19</td>\n",
       "      <td>30.0</td>\n",
       "      <td>21553</td>\n",
       "      <td>9</td>\n",
       "      <td>0</td>\n",
       "      <td>Lowfat 2% Milkfat Cottage Cheese</td>\n",
       "      <td>...</td>\n",
       "      <td>14900.0</td>\n",
       "      <td>High-range product</td>\n",
       "      <td>Busiest days</td>\n",
       "      <td>Average orders</td>\n",
       "      <td>16</td>\n",
       "      <td>Regular customer</td>\n",
       "      <td>114.426619</td>\n",
       "      <td>High spender</td>\n",
       "      <td>23.0</td>\n",
       "      <td>Non-frequent Customer</td>\n",
       "    </tr>\n",
       "    <tr>\n",
       "      <th>...</th>\n",
       "      <td>...</td>\n",
       "      <td>...</td>\n",
       "      <td>...</td>\n",
       "      <td>...</td>\n",
       "      <td>...</td>\n",
       "      <td>...</td>\n",
       "      <td>...</td>\n",
       "      <td>...</td>\n",
       "      <td>...</td>\n",
       "      <td>...</td>\n",
       "      <td>...</td>\n",
       "      <td>...</td>\n",
       "      <td>...</td>\n",
       "      <td>...</td>\n",
       "      <td>...</td>\n",
       "      <td>...</td>\n",
       "      <td>...</td>\n",
       "      <td>...</td>\n",
       "      <td>...</td>\n",
       "      <td>...</td>\n",
       "      <td>...</td>\n",
       "    </tr>\n",
       "    <tr>\n",
       "      <th>29166209</th>\n",
       "      <td>2249946</td>\n",
       "      <td>204099</td>\n",
       "      <td>29</td>\n",
       "      <td>0</td>\n",
       "      <td>8</td>\n",
       "      <td>4.0</td>\n",
       "      <td>33664</td>\n",
       "      <td>1</td>\n",
       "      <td>0</td>\n",
       "      <td>2 % Reduced Fat  Milk</td>\n",
       "      <td>...</td>\n",
       "      <td>99999.0</td>\n",
       "      <td>High-range product</td>\n",
       "      <td>Busiest days</td>\n",
       "      <td>Average orders</td>\n",
       "      <td>39</td>\n",
       "      <td>Regular customer</td>\n",
       "      <td>1106.743956</td>\n",
       "      <td>High spender</td>\n",
       "      <td>4.0</td>\n",
       "      <td>Frequent Customer</td>\n",
       "    </tr>\n",
       "    <tr>\n",
       "      <th>29166210</th>\n",
       "      <td>2363282</td>\n",
       "      <td>204099</td>\n",
       "      <td>31</td>\n",
       "      <td>0</td>\n",
       "      <td>9</td>\n",
       "      <td>2.0</td>\n",
       "      <td>33664</td>\n",
       "      <td>1</td>\n",
       "      <td>1</td>\n",
       "      <td>2 % Reduced Fat  Milk</td>\n",
       "      <td>...</td>\n",
       "      <td>99999.0</td>\n",
       "      <td>High-range product</td>\n",
       "      <td>Busiest days</td>\n",
       "      <td>Most orders</td>\n",
       "      <td>39</td>\n",
       "      <td>Regular customer</td>\n",
       "      <td>1106.743956</td>\n",
       "      <td>High spender</td>\n",
       "      <td>4.0</td>\n",
       "      <td>Frequent Customer</td>\n",
       "    </tr>\n",
       "    <tr>\n",
       "      <th>29166211</th>\n",
       "      <td>3181945</td>\n",
       "      <td>204395</td>\n",
       "      <td>13</td>\n",
       "      <td>3</td>\n",
       "      <td>15</td>\n",
       "      <td>8.0</td>\n",
       "      <td>33664</td>\n",
       "      <td>25</td>\n",
       "      <td>0</td>\n",
       "      <td>2 % Reduced Fat  Milk</td>\n",
       "      <td>...</td>\n",
       "      <td>99999.0</td>\n",
       "      <td>High-range product</td>\n",
       "      <td>Slowest days</td>\n",
       "      <td>Most orders</td>\n",
       "      <td>15</td>\n",
       "      <td>Regular customer</td>\n",
       "      <td>451.153540</td>\n",
       "      <td>High spender</td>\n",
       "      <td>5.0</td>\n",
       "      <td>Frequent Customer</td>\n",
       "    </tr>\n",
       "    <tr>\n",
       "      <th>29166212</th>\n",
       "      <td>2486215</td>\n",
       "      <td>205227</td>\n",
       "      <td>7</td>\n",
       "      <td>3</td>\n",
       "      <td>20</td>\n",
       "      <td>4.0</td>\n",
       "      <td>33664</td>\n",
       "      <td>8</td>\n",
       "      <td>0</td>\n",
       "      <td>2 % Reduced Fat  Milk</td>\n",
       "      <td>...</td>\n",
       "      <td>99999.0</td>\n",
       "      <td>High-range product</td>\n",
       "      <td>Slowest days</td>\n",
       "      <td>Average orders</td>\n",
       "      <td>12</td>\n",
       "      <td>Regular customer</td>\n",
       "      <td>1178.381871</td>\n",
       "      <td>High spender</td>\n",
       "      <td>12.0</td>\n",
       "      <td>Regular customer</td>\n",
       "    </tr>\n",
       "    <tr>\n",
       "      <th>29166213</th>\n",
       "      <td>2232716</td>\n",
       "      <td>205227</td>\n",
       "      <td>10</td>\n",
       "      <td>0</td>\n",
       "      <td>11</td>\n",
       "      <td>4.0</td>\n",
       "      <td>33664</td>\n",
       "      <td>23</td>\n",
       "      <td>1</td>\n",
       "      <td>2 % Reduced Fat  Milk</td>\n",
       "      <td>...</td>\n",
       "      <td>99999.0</td>\n",
       "      <td>High-range product</td>\n",
       "      <td>Busiest days</td>\n",
       "      <td>Most orders</td>\n",
       "      <td>12</td>\n",
       "      <td>Regular customer</td>\n",
       "      <td>1178.381871</td>\n",
       "      <td>High spender</td>\n",
       "      <td>12.0</td>\n",
       "      <td>Regular customer</td>\n",
       "    </tr>\n",
       "  </tbody>\n",
       "</table>\n",
       "<p>5127 rows × 22 columns</p>\n",
       "</div>"
      ],
      "text/plain": [
       "          order_id  user_id  order_number  order_day_of_week  \\\n",
       "10030345    912404       17            12                  2   \n",
       "10030346    603376       17            22                  6   \n",
       "10030347   3264360      135             2                  2   \n",
       "10030348    892534      135             3                  0   \n",
       "10030349    229704      342             8                  1   \n",
       "...            ...      ...           ...                ...   \n",
       "29166209   2249946   204099            29                  0   \n",
       "29166210   2363282   204099            31                  0   \n",
       "29166211   3181945   204395            13                  3   \n",
       "29166212   2486215   205227             7                  3   \n",
       "29166213   2232716   205227            10                  0   \n",
       "\n",
       "          order_hour_of_day  days_since_prior_order  product_id  \\\n",
       "10030345                 14                     5.0       21553   \n",
       "10030346                 16                     4.0       21553   \n",
       "10030347                 21                    13.0       21553   \n",
       "10030348                  8                    12.0       21553   \n",
       "10030349                 19                    30.0       21553   \n",
       "...                     ...                     ...         ...   \n",
       "29166209                  8                     4.0       33664   \n",
       "29166210                  9                     2.0       33664   \n",
       "29166211                 15                     8.0       33664   \n",
       "29166212                 20                     4.0       33664   \n",
       "29166213                 11                     4.0       33664   \n",
       "\n",
       "          add_to_cart_order  reordered                      product_name  ...  \\\n",
       "10030345                  5          0  Lowfat 2% Milkfat Cottage Cheese  ...   \n",
       "10030346                  3          1  Lowfat 2% Milkfat Cottage Cheese  ...   \n",
       "10030347                  6          0  Lowfat 2% Milkfat Cottage Cheese  ...   \n",
       "10030348                  3          1  Lowfat 2% Milkfat Cottage Cheese  ...   \n",
       "10030349                  9          0  Lowfat 2% Milkfat Cottage Cheese  ...   \n",
       "...                     ...        ...                               ...  ...   \n",
       "29166209                  1          0             2 % Reduced Fat  Milk  ...   \n",
       "29166210                  1          1             2 % Reduced Fat  Milk  ...   \n",
       "29166211                 25          0             2 % Reduced Fat  Milk  ...   \n",
       "29166212                  8          0             2 % Reduced Fat  Milk  ...   \n",
       "29166213                 23          1             2 % Reduced Fat  Milk  ...   \n",
       "\n",
       "           prices     price_range_loc    busiest_day busiest_period_of_day  \\\n",
       "10030345  14900.0  High-range product  Regulary days           Most orders   \n",
       "10030346  14900.0  High-range product  Regulary days           Most orders   \n",
       "10030347  14900.0  High-range product  Regulary days        Average orders   \n",
       "10030348  14900.0  High-range product   Busiest days        Average orders   \n",
       "10030349  14900.0  High-range product   Busiest days        Average orders   \n",
       "...           ...                 ...            ...                   ...   \n",
       "29166209  99999.0  High-range product   Busiest days        Average orders   \n",
       "29166210  99999.0  High-range product   Busiest days           Most orders   \n",
       "29166211  99999.0  High-range product   Slowest days           Most orders   \n",
       "29166212  99999.0  High-range product   Slowest days        Average orders   \n",
       "29166213  99999.0  High-range product   Busiest days           Most orders   \n",
       "\n",
       "         max_order      loyalty_flag    avg_price Spending_flag  \\\n",
       "10030345        40  Regular customer   108.648299  High spender   \n",
       "10030346        40  Regular customer   108.648299  High spender   \n",
       "10030347         4      New customer  1154.792308  High spender   \n",
       "10030348         4      New customer  1154.792308  High spender   \n",
       "10030349        16  Regular customer   114.426619  High spender   \n",
       "...            ...               ...          ...           ...   \n",
       "29166209        39  Regular customer  1106.743956  High spender   \n",
       "29166210        39  Regular customer  1106.743956  High spender   \n",
       "29166211        15  Regular customer   451.153540  High spender   \n",
       "29166212        12  Regular customer  1178.381871  High spender   \n",
       "29166213        12  Regular customer  1178.381871  High spender   \n",
       "\n",
       "          days_since_prior_order_median         Frequency_flag  \n",
       "10030345                            5.0      Frequent Customer  \n",
       "10030346                            5.0      Frequent Customer  \n",
       "10030347                           12.0       Regular customer  \n",
       "10030348                           12.0       Regular customer  \n",
       "10030349                           23.0  Non-frequent Customer  \n",
       "...                                 ...                    ...  \n",
       "29166209                            4.0      Frequent Customer  \n",
       "29166210                            4.0      Frequent Customer  \n",
       "29166211                            5.0      Frequent Customer  \n",
       "29166212                           12.0       Regular customer  \n",
       "29166213                           12.0       Regular customer  \n",
       "\n",
       "[5127 rows x 22 columns]"
      ]
     },
     "execution_count": 64,
     "metadata": {},
     "output_type": "execute_result"
    }
   ],
   "source": [
    "ords_prods_merge.loc[ords_prods_merge['prices'] > 100]"
   ]
  },
  {
   "cell_type": "code",
   "execution_count": 59,
   "id": "c33680b5-bb9a-430e-93e9-51a71fe5a385",
   "metadata": {},
   "outputs": [],
   "source": [
    "ords_prods_merge['prices'] = ords_prods_merge['prices'].astype('float64')"
   ]
  },
  {
   "cell_type": "code",
   "execution_count": 63,
   "id": "03e8de91-450a-4d62-8f4d-b2a3b1dcda89",
   "metadata": {},
   "outputs": [],
   "source": [
    "ords_prods_merge.drop(columns=['_merge'], inplace = True)"
   ]
  },
  {
   "cell_type": "markdown",
   "id": "8acc1c70-dbd3-4041-9b76-45cc0c62d368",
   "metadata": {},
   "source": [
    "#### Let's mark outliers as missing data, using 'np.nan' - a function in NumPy\n"
   ]
  },
  {
   "cell_type": "code",
   "execution_count": 65,
   "id": "ddfb3826-30a4-4303-b0d1-713b34109997",
   "metadata": {},
   "outputs": [],
   "source": [
    "ords_prods_merge.loc[ords_prods_merge['prices'] >100, 'prices'] = np.nan"
   ]
  },
  {
   "cell_type": "code",
   "execution_count": 67,
   "id": "ed26f136-87e0-41e8-9bbf-33cafdda8af1",
   "metadata": {},
   "outputs": [
    {
     "data": {
      "text/plain": [
       "25.0"
      ]
     },
     "execution_count": 67,
     "metadata": {},
     "output_type": "execute_result"
    }
   ],
   "source": [
    "# Checking the max value\n",
    "ords_prods_merge['prices'].max()"
   ]
  },
  {
   "cell_type": "markdown",
   "id": "b9a1d0fa-a2d2-4561-8401-8bce2f644c36",
   "metadata": {},
   "source": [
    "#### After wrangling Data, let's create a Histogram"
   ]
  },
  {
   "cell_type": "code",
   "execution_count": 73,
   "id": "fd50976c-2b4a-414f-8d6a-28e6c90e9695",
   "metadata": {},
   "outputs": [
    {
     "data": {
      "image/png": "[encoded data removed]",
      "text/plain": [
       "<Figure size 640x480 with 1 Axes>"
      ]
     },
     "metadata": {},
     "output_type": "display_data"
    }
   ],
   "source": [
    "hist = ords_prods_merge['prices'].plot.hist(bins = 25)"
   ]
  },
  {
   "cell_type": "code",
   "execution_count": 74,
   "id": "5ebc3c80-6cce-48a6-9de3-44c30aed5540",
   "metadata": {},
   "outputs": [
    {
     "data": {
      "image/png": "[encoded data removed]",
      "text/plain": [
       "<Figure size 640x480 with 1 Axes>"
      ]
     },
     "metadata": {},
     "output_type": "display_data"
    }
   ],
   "source": [
    "hist2 = ords_prods_merge['prices'].plot.hist(bins = 50)"
   ]
  },
  {
   "cell_type": "markdown",
   "id": "c773814a-0c33-4a17-8db4-43eaebc4291f",
   "metadata": {},
   "source": [
    "#### Exporting Histogram from Jupiter"
   ]
  },
  {
   "cell_type": "code",
   "execution_count": 75,
   "id": "ee27a15e-14a3-4101-953b-f84bd6ba807e",
   "metadata": {},
   "outputs": [],
   "source": [
    "hist2.figure.savefig(os.path.join(path, '04 Analysis','Visualizations', 'hist2_prices.png'))"
   ]
  },
  {
   "cell_type": "code",
   "execution_count": 76,
   "id": "f6d99b29-8a70-489a-82f4-3ce22efebff8",
   "metadata": {},
   "outputs": [],
   "source": [
    "hist.figure.savefig(os.path.join(path, '04 Analysis','Visualizations', 'hist_prices.png'))"
   ]
  },
  {
   "cell_type": "markdown",
   "id": "ba5bb8a9-85b5-4251-b88d-9fb902de2828",
   "metadata": {},
   "source": [
    "## 4. Creating a Line Chart"
   ]
  },
  {
   "cell_type": "code",
   "execution_count": 77,
   "id": "b8740e07-6546-4cf4-b57b-9df3807471d9",
   "metadata": {},
   "outputs": [],
   "source": [
    "df = ords_prods_merge[:2000000]"
   ]
  },
  {
   "cell_type": "markdown",
   "id": "7ac6b766-0711-4591-96b8-774c1f9996db",
   "metadata": {},
   "source": [
    "#### Before creating the Line Chart, we need Sampling Data"
   ]
  },
  {
   "cell_type": "code",
   "execution_count": 79,
   "id": "8061e233-e053-4179-a6fd-5be2a7bf58d7",
   "metadata": {},
   "outputs": [],
   "source": [
    "np.random.seed(4)\n",
    "dev = np.random.rand(len(ords_prods_merge)) <= 0.7"
   ]
  },
  {
   "cell_type": "code",
   "execution_count": 80,
   "id": "8c35e41b-48eb-4152-babd-e0d6177c4d7e",
   "metadata": {},
   "outputs": [
    {
     "data": {
      "text/plain": [
       "array([False,  True, False, ...,  True,  True,  True])"
      ]
     },
     "execution_count": 80,
     "metadata": {},
     "output_type": "execute_result"
    }
   ],
   "source": [
    "dev"
   ]
  },
  {
   "cell_type": "code",
   "execution_count": 81,
   "id": "55a789e2-e5f9-45b4-95af-95e1c6766158",
   "metadata": {},
   "outputs": [],
   "source": [
    "big = ords_prods_merge[dev]\n",
    "small = ords_prods_merge[~dev]"
   ]
  },
  {
   "cell_type": "code",
   "execution_count": 82,
   "id": "7dbcc8c5-e45f-4268-b3e4-fabb761c68e5",
   "metadata": {},
   "outputs": [
    {
     "data": {
      "text/plain": [
       "32404859"
      ]
     },
     "execution_count": 82,
     "metadata": {},
     "output_type": "execute_result"
    }
   ],
   "source": [
    "len(ords_prods_merge)"
   ]
  },
  {
   "cell_type": "code",
   "execution_count": 83,
   "id": "5a672996-5121-4d21-bcb3-830d4479cbcf",
   "metadata": {},
   "outputs": [
    {
     "data": {
      "text/plain": [
       "32404859"
      ]
     },
     "execution_count": 83,
     "metadata": {},
     "output_type": "execute_result"
    }
   ],
   "source": [
    "len(big)+len(small)"
   ]
  },
  {
   "cell_type": "code",
   "execution_count": 85,
   "id": "792f4b43-4420-4f49-bc0b-85db4810b5cd",
   "metadata": {},
   "outputs": [],
   "source": [
    "# Let's output only two columns of the new dataframe\n",
    "df_2 = small[['order_day_of_week','prices']]"
   ]
  },
  {
   "cell_type": "code",
   "execution_count": 87,
   "id": "fb22e389-70ad-41b5-aa07-a068aea28002",
   "metadata": {},
   "outputs": [
    {
     "name": "stderr",
     "output_type": "stream",
     "text": [
      "C:\\Users\\azikb\\anaconda3\\Lib\\site-packages\\seaborn\\_oldcore.py:1119: FutureWarning: use_inf_as_na option is deprecated and will be removed in a future version. Convert inf values to NaN before operating instead.\n",
      "  with pd.option_context('mode.use_inf_as_na', True):\n",
      "C:\\Users\\azikb\\anaconda3\\Lib\\site-packages\\seaborn\\_oldcore.py:1119: FutureWarning: use_inf_as_na option is deprecated and will be removed in a future version. Convert inf values to NaN before operating instead.\n",
      "  with pd.option_context('mode.use_inf_as_na', True):\n"
     ]
    },
    {
     "data": {
      "image/png": "[encoded data removed]",
      "text/plain": [
       "<Figure size 640x480 with 1 Axes>"
      ]
     },
     "metadata": {},
     "output_type": "display_data"
    }
   ],
   "source": [
    "# Executing the Line Chart\n",
    "line = sns.lineplot(data = df_2, x = 'order_day_of_week',y = 'prices')"
   ]
  },
  {
   "cell_type": "code",
   "execution_count": null,
   "id": "c63624ad-050e-4a50-b5e4-9e699cdc46cd",
   "metadata": {},
   "outputs": [],
   "source": []
  }
 ],
 "metadata": {
  "kernelspec": {
   "display_name": "Python 3 (ipykernel)",
   "language": "python",
   "name": "python3"
  },
  "language_info": {
   "codemirror_mode": {
    "name": "ipython",
    "version": 3
   },
   "file_extension": ".py",
   "mimetype": "text/x-python",
   "name": "python",
   "nbconvert_exporter": "python",
   "pygments_lexer": "ipython3",
   "version": "3.11.7"
  }
 },
 "nbformat": 4,
 "nbformat_minor": 5
}
