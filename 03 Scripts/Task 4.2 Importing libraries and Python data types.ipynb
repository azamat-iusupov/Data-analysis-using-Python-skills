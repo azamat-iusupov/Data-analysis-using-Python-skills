{
 "cells": [
  {
   "cell_type": "markdown",
   "id": "f1e3a61a-62ce-4f95-af2b-8a160e4af809",
   "metadata": {},
   "source": [
    "# 01. Importing libraries"
   ]
  },
  {
   "cell_type": "code",
   "execution_count": 1,
   "id": "3aa0d881-f719-41b3-a7a8-7b98954531a8",
   "metadata": {},
   "outputs": [],
   "source": [
    "# Import libraries\n",
    "import pandas as pd\n",
    "import numpy as np\n",
    "import os\n"
   ]
  },
  {
   "cell_type": "markdown",
   "id": "9a6f01cf-8562-48e0-967c-4137d2d8479a",
   "metadata": {},
   "source": [
    "# 02. Data types"
   ]
  },
  {
   "cell_type": "markdown",
   "id": "7f353c4d-66df-47b9-97b8-4eca867ee41d",
   "metadata": {},
   "source": [
    "## First way of reaching 100"
   ]
  },
  {
   "cell_type": "code",
   "execution_count": 1,
   "id": "716dab80-e9a1-430f-ac88-010a99f35e20",
   "metadata": {},
   "outputs": [],
   "source": [
    "x=18"
   ]
  },
  {
   "cell_type": "code",
   "execution_count": 2,
   "id": "f1fad4d5-cb64-4920-a4d8-f636dcbb1db7",
   "metadata": {
    "scrolled": true
   },
   "outputs": [
    {
     "name": "stdout",
     "output_type": "stream",
     "text": [
      "18\n"
     ]
    }
   ],
   "source": [
    "print (x)"
   ]
  },
  {
   "cell_type": "code",
   "execution_count": 3,
   "id": "5e30b1fc-72fb-4b5e-8a2a-11426bd078f2",
   "metadata": {},
   "outputs": [],
   "source": [
    "e = 82"
   ]
  },
  {
   "cell_type": "code",
   "execution_count": 4,
   "id": "a151d98c-8edd-4391-b598-56bf0ce009d3",
   "metadata": {},
   "outputs": [
    {
     "name": "stdout",
     "output_type": "stream",
     "text": [
      "82\n"
     ]
    }
   ],
   "source": [
    "print (e)"
   ]
  },
  {
   "cell_type": "code",
   "execution_count": 5,
   "id": "926e28c0-23bc-477d-ba3c-5163938c01fa",
   "metadata": {},
   "outputs": [
    {
     "data": {
      "text/plain": [
       "100"
      ]
     },
     "execution_count": 5,
     "metadata": {},
     "output_type": "execute_result"
    }
   ],
   "source": [
    "x+e"
   ]
  },
  {
   "cell_type": "markdown",
   "id": "c39cf7d6-6842-4b5b-8476-d07a426f8858",
   "metadata": {},
   "source": [
    "# The second way to reach 100"
   ]
  },
  {
   "cell_type": "code",
   "execution_count": 6,
   "id": "f1be09f5-30e8-47fc-8b56-f69673602e62",
   "metadata": {},
   "outputs": [
    {
     "data": {
      "text/plain": [
       "100"
      ]
     },
     "execution_count": 6,
     "metadata": {},
     "output_type": "execute_result"
    }
   ],
   "source": [
    "x+82"
   ]
  },
  {
   "cell_type": "markdown",
   "id": "6ffe3b2e-22cf-44fc-bb65-b781b96601c5",
   "metadata": {
    "scrolled": true
   },
   "source": [
    "# The third way to reach 100"
   ]
  },
  {
   "cell_type": "code",
   "execution_count": 7,
   "id": "7da429bb-82a1-4762-9853-60a1d01b7c2f",
   "metadata": {},
   "outputs": [
    {
     "name": "stdout",
     "output_type": "stream",
     "text": [
      "18\n"
     ]
    }
   ],
   "source": [
    "print (x)"
   ]
  },
  {
   "cell_type": "code",
   "execution_count": 8,
   "id": "f52fc8be-b736-4eda-9ef6-9cff373b79b5",
   "metadata": {},
   "outputs": [],
   "source": [
    "f = 118"
   ]
  },
  {
   "cell_type": "code",
   "execution_count": 9,
   "id": "bb8c8c2a-a972-415d-8732-36d964891720",
   "metadata": {},
   "outputs": [
    {
     "data": {
      "text/plain": [
       "100"
      ]
     },
     "execution_count": 9,
     "metadata": {},
     "output_type": "execute_result"
    }
   ],
   "source": [
    "f-x"
   ]
  },
  {
   "cell_type": "markdown",
   "id": "e1024584-a948-45ee-a24a-8611e0f24a18",
   "metadata": {},
   "source": [
    "# Code 2 floating-point variables and divide them by each other"
   ]
  },
  {
   "cell_type": "code",
   "execution_count": 10,
   "id": "675e8f9d-7143-4b19-ad34-b4013f0c05bb",
   "metadata": {},
   "outputs": [],
   "source": [
    "x=5.8"
   ]
  },
  {
   "cell_type": "code",
   "execution_count": 11,
   "id": "c1eb6817-dbb6-436c-992b-582f974248c3",
   "metadata": {},
   "outputs": [],
   "source": [
    "y=1.2"
   ]
  },
  {
   "cell_type": "code",
   "execution_count": 12,
   "id": "c29a6aec-25f5-40a6-9270-f9a4b8e0e517",
   "metadata": {},
   "outputs": [
    {
     "data": {
      "text/plain": [
       "4.833333333333333"
      ]
     },
     "execution_count": 12,
     "metadata": {},
     "output_type": "execute_result"
    }
   ],
   "source": [
    "x/y"
   ]
  },
  {
   "cell_type": "markdown",
   "id": "303209b1-7aee-4ce9-8b69-02b9ba6ed8b0",
   "metadata": {},
   "source": [
    "# Construct a short word made of separate strings (you’ll need to concatenate some strings!"
   ]
  },
  {
   "cell_type": "code",
   "execution_count": 13,
   "id": "4452b159-5648-4b30-a13d-afd51951a981",
   "metadata": {},
   "outputs": [],
   "source": [
    "x='Hello, '"
   ]
  },
  {
   "cell_type": "code",
   "execution_count": 14,
   "id": "dd1131e2-e6b1-4e54-b68d-cd0fa49e6e2b",
   "metadata": {},
   "outputs": [],
   "source": [
    "y='Kimera'"
   ]
  },
  {
   "cell_type": "code",
   "execution_count": 15,
   "id": "02557864-da2b-438e-83d4-3cfb0becc3b3",
   "metadata": {},
   "outputs": [
    {
     "data": {
      "text/plain": [
       "'Hello, Kimera'"
      ]
     },
     "execution_count": 15,
     "metadata": {},
     "output_type": "execute_result"
    }
   ],
   "source": [
    "x+y"
   ]
  },
  {
   "cell_type": "markdown",
   "id": "59d88c9e-cc40-4936-966d-7d31fe6cc10a",
   "metadata": {},
   "source": [
    "# Construct 2 short sentences made of separate strings"
   ]
  },
  {
   "cell_type": "code",
   "execution_count": 16,
   "id": "d43b62a4-be46-4c39-8093-45abd62803db",
   "metadata": {},
   "outputs": [],
   "source": [
    "x='Dear Kimera, '"
   ]
  },
  {
   "cell_type": "code",
   "execution_count": 17,
   "id": "c4f31e76-01d0-488d-8155-dfed2ba7d718",
   "metadata": {},
   "outputs": [],
   "source": [
    "y='thank you very much for you help and dedication during my study. I am very appreciate it'"
   ]
  },
  {
   "cell_type": "code",
   "execution_count": 18,
   "id": "b703c16c-2b48-49d1-968d-0a524ebbdde4",
   "metadata": {},
   "outputs": [
    {
     "data": {
      "text/plain": [
       "'Dear Kimera, thank you very much for you help and dedication during my study. I am very appreciate it'"
      ]
     },
     "execution_count": 18,
     "metadata": {},
     "output_type": "execute_result"
    }
   ],
   "source": [
    "x+y"
   ]
  }
 ],
 "metadata": {
  "kernelspec": {
   "display_name": "Python 3 (ipykernel)",
   "language": "python",
   "name": "python3"
  },
  "language_info": {
   "codemirror_mode": {
    "name": "ipython",
    "version": 3
   },
   "file_extension": ".py",
   "mimetype": "text/x-python",
   "name": "python",
   "nbconvert_exporter": "python",
   "pygments_lexer": "ipython3",
   "version": "3.11.7"
  }
 },
 "nbformat": 4,
 "nbformat_minor": 5
}
