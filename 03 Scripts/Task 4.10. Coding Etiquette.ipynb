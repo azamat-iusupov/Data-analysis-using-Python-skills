{
 "cells": [
  {
   "cell_type": "markdown",
   "id": "dad392e9-f795-490f-bef9-276a93a20ce3",
   "metadata": {},
   "source": [
    "# Task 4.10: Coding Etiquette & Excel Reporting"
   ]
  },
  {
   "cell_type": "markdown",
   "id": "00a3df1b-ceb7-4cb5-9941-ee07c691f032",
   "metadata": {},
   "source": [
    "### 1. Importing libraries and main/last data set."
   ]
  },
  {
   "cell_type": "markdown",
   "id": "1730bcc4-a416-442b-991f-8de98f9ba4d5",
   "metadata": {},
   "source": [
    "### 2. Checking columns for PII (persanally identifiable information)."
   ]
  },
  {
   "cell_type": "markdown",
   "id": "2c5e65b4-3355-4ed6-8192-e40a5f39d834",
   "metadata": {},
   "source": [
    "### 3. Compare customers behavior in different regions."
   ]
  },
  {
   "cell_type": "markdown",
   "id": "d946b5ee-2270-4a9b-a740-daa9674a8a38",
   "metadata": {},
   "source": [
    "### 4. Create an exclusion flag for the low-activity customers."
   ]
  },
  {
   "cell_type": "markdown",
   "id": "b1cefbf2-3919-4e82-a5c6-a0535c681697",
   "metadata": {},
   "source": [
    "### 5.  Create a profiling variable based on age, income, certain goods in the “department_id” column, and number of dependents."
   ]
  },
  {
   "cell_type": "markdown",
   "id": "6a4df628-8d18-4537-9085-71bddd119481",
   "metadata": {},
   "source": [
    "### 6. Create an appropriate visualization to show the distribution of profiles."
   ]
  },
  {
   "cell_type": "markdown",
   "id": "8caf664f-c654-457c-85a1-95389cc35dcf",
   "metadata": {},
   "source": [
    "### 7. Aggregate the max, mean, and min variables on a customer-profile level for usage frequency and expenditure."
   ]
  },
  {
   "cell_type": "markdown",
   "id": "f06235e1-b131-429d-ab10-7c6ba937d592",
   "metadata": {},
   "source": [
    "### 8. Compare your customer profiles with regions and departments. Can you identify a link between them? Customers may demonstrate different behaviors across regions, which could make this information important."
   ]
  },
  {
   "cell_type": "markdown",
   "id": "fff75773-7786-4289-a6d9-02723c72e994",
   "metadata": {},
   "source": [
    "### 1. Importing libraries and main/last data set."
   ]
  },
  {
   "cell_type": "code",
   "execution_count": 1,
   "id": "14522796-09ba-43cf-9d7e-7e8a7a1e1b9b",
   "metadata": {},
   "outputs": [],
   "source": [
    "# Importing libraries.\n",
    "import pandas as pd\n",
    "import numpy as np\n",
    "import os\n",
    "import matplotlib.pyplot as plt\n",
    "import seaborn as sns\n",
    "import scipy"
   ]
  },
  {
   "cell_type": "code",
   "execution_count": 2,
   "id": "f65edcd5-95e9-4cf2-b127-94b8762d14e3",
   "metadata": {},
   "outputs": [],
   "source": [
    "# Creating a path.\n",
    "path = r\"C:\\Users\\azikb\\Downloads\\Data Immersion. Assiginment 4. Python. Instacart Basket Analysis\""
   ]
  },
  {
   "cell_type": "code",
   "execution_count": 3,
   "id": "72681b7a-02b1-4e3a-8e87-a3ec836e7edf",
   "metadata": {},
   "outputs": [],
   "source": [
    "# Defining a dataframe. \n",
    "orders_products_all = pd.read_pickle(os.path.join(path, '02 Data', 'Prepared Data', 'orders_products_all.pkl'))"
   ]
  },
  {
   "cell_type": "code",
   "execution_count": 4,
   "id": "16291a3d-9163-4b72-a2b4-cb10de308c9b",
   "metadata": {},
   "outputs": [],
   "source": [
    "# Identifying outliers for the right data set.\n",
    "orders_products_all.loc[orders_products_all['prices'] > 100, 'prices'] = np.nan"
   ]
  },
  {
   "cell_type": "code",
   "execution_count": 5,
   "id": "d98afe40-3039-4d17-8791-153887d6792c",
   "metadata": {
    "scrolled": true
   },
   "outputs": [
    {
     "data": {
      "text/plain": [
       "25.0"
      ]
     },
     "execution_count": 5,
     "metadata": {},
     "output_type": "execute_result"
    }
   ],
   "source": [
    "# Checking max value\n",
    "orders_products_all['prices'].max()"
   ]
  },
  {
   "cell_type": "code",
   "execution_count": 6,
   "id": "24f3a5ab",
   "metadata": {},
   "outputs": [
    {
     "data": {
      "text/html": [
       "<div>\n",
       "<style scoped>\n",
       "    .dataframe tbody tr th:only-of-type {\n",
       "        vertical-align: middle;\n",
       "    }\n",
       "\n",
       "    .dataframe tbody tr th {\n",
       "        vertical-align: top;\n",
       "    }\n",
       "\n",
       "    .dataframe thead th {\n",
       "        text-align: right;\n",
       "    }\n",
       "</style>\n",
       "<table border=\"1\" class=\"dataframe\">\n",
       "  <thead>\n",
       "    <tr style=\"text-align: right;\">\n",
       "      <th></th>\n",
       "      <th>order_id</th>\n",
       "      <th>user_id</th>\n",
       "      <th>order_number</th>\n",
       "      <th>order_day_of_week</th>\n",
       "      <th>order_hour_of_day</th>\n",
       "      <th>days_since_prior_order</th>\n",
       "      <th>product_id</th>\n",
       "      <th>add_to_cart_order</th>\n",
       "      <th>reordered</th>\n",
       "      <th>product_name</th>\n",
       "      <th>...</th>\n",
       "      <th>Frequency_flag</th>\n",
       "      <th>first_name</th>\n",
       "      <th>second_name</th>\n",
       "      <th>gender</th>\n",
       "      <th>state</th>\n",
       "      <th>age</th>\n",
       "      <th>date_joined</th>\n",
       "      <th>num_of_dependants</th>\n",
       "      <th>family_status</th>\n",
       "      <th>income</th>\n",
       "    </tr>\n",
       "  </thead>\n",
       "  <tbody>\n",
       "  </tbody>\n",
       "</table>\n",
       "<p>0 rows × 32 columns</p>\n",
       "</div>"
      ],
      "text/plain": [
       "Empty DataFrame\n",
       "Columns: [order_id, user_id, order_number, order_day_of_week, order_hour_of_day, days_since_prior_order, product_id, add_to_cart_order, reordered, product_name, aisle_id, department_id, prices, _merge, price_range_loc, busiest_day, busiest_period_of_day, max_order, loyalty_flag, avg_price, Spending_flag, days_since_prior_order_median, Frequency_flag, first_name, second_name, gender, state, age, date_joined, num_of_dependants, family_status, income]\n",
       "Index: []\n",
       "\n",
       "[0 rows x 32 columns]"
      ]
     },
     "execution_count": 6,
     "metadata": {},
     "output_type": "execute_result"
    }
   ],
   "source": [
    "orders_products_all.loc[orders_products_all['prices'] > 100]"
   ]
  },
  {
   "cell_type": "markdown",
   "id": "bae99715-440f-44e4-9bfa-10cd528a70a1",
   "metadata": {},
   "source": [
    "### 2. Checking columns for PII."
   ]
  },
  {
   "cell_type": "code",
   "execution_count": 7,
   "id": "c5e06736",
   "metadata": {},
   "outputs": [],
   "source": [
    "pd.options.display.max_columns = None"
   ]
  },
  {
   "cell_type": "code",
   "execution_count": 8,
   "id": "e7f8360f-f2b8-4156-aefc-3591945e333a",
   "metadata": {
    "scrolled": true
   },
   "outputs": [
    {
     "data": {
      "text/html": [
       "<div>\n",
       "<style scoped>\n",
       "    .dataframe tbody tr th:only-of-type {\n",
       "        vertical-align: middle;\n",
       "    }\n",
       "\n",
       "    .dataframe tbody tr th {\n",
       "        vertical-align: top;\n",
       "    }\n",
       "\n",
       "    .dataframe thead th {\n",
       "        text-align: right;\n",
       "    }\n",
       "</style>\n",
       "<table border=\"1\" class=\"dataframe\">\n",
       "  <thead>\n",
       "    <tr style=\"text-align: right;\">\n",
       "      <th></th>\n",
       "      <th>order_id</th>\n",
       "      <th>user_id</th>\n",
       "      <th>order_number</th>\n",
       "      <th>order_day_of_week</th>\n",
       "      <th>order_hour_of_day</th>\n",
       "      <th>days_since_prior_order</th>\n",
       "      <th>product_id</th>\n",
       "      <th>add_to_cart_order</th>\n",
       "      <th>reordered</th>\n",
       "      <th>product_name</th>\n",
       "      <th>aisle_id</th>\n",
       "      <th>department_id</th>\n",
       "      <th>prices</th>\n",
       "      <th>_merge</th>\n",
       "      <th>price_range_loc</th>\n",
       "      <th>busiest_day</th>\n",
       "      <th>busiest_period_of_day</th>\n",
       "      <th>max_order</th>\n",
       "      <th>loyalty_flag</th>\n",
       "      <th>avg_price</th>\n",
       "      <th>Spending_flag</th>\n",
       "      <th>days_since_prior_order_median</th>\n",
       "      <th>Frequency_flag</th>\n",
       "      <th>first_name</th>\n",
       "      <th>second_name</th>\n",
       "      <th>gender</th>\n",
       "      <th>state</th>\n",
       "      <th>age</th>\n",
       "      <th>date_joined</th>\n",
       "      <th>num_of_dependants</th>\n",
       "      <th>family_status</th>\n",
       "      <th>income</th>\n",
       "    </tr>\n",
       "  </thead>\n",
       "  <tbody>\n",
       "    <tr>\n",
       "      <th>0</th>\n",
       "      <td>2539329</td>\n",
       "      <td>1</td>\n",
       "      <td>1</td>\n",
       "      <td>2</td>\n",
       "      <td>8</td>\n",
       "      <td>NaN</td>\n",
       "      <td>196</td>\n",
       "      <td>1</td>\n",
       "      <td>0</td>\n",
       "      <td>Soda</td>\n",
       "      <td>77</td>\n",
       "      <td>7</td>\n",
       "      <td>9.0</td>\n",
       "      <td>both</td>\n",
       "      <td>Mid-range product</td>\n",
       "      <td>Regulary days</td>\n",
       "      <td>Average orders</td>\n",
       "      <td>10</td>\n",
       "      <td>New customer</td>\n",
       "      <td>6.367797</td>\n",
       "      <td>Low spender</td>\n",
       "      <td>20.5</td>\n",
       "      <td>Non-frequent Customer</td>\n",
       "      <td>Linda</td>\n",
       "      <td>Nguyen</td>\n",
       "      <td>Female</td>\n",
       "      <td>Alabama</td>\n",
       "      <td>31</td>\n",
       "      <td>2/17/2019</td>\n",
       "      <td>3</td>\n",
       "      <td>married</td>\n",
       "      <td>40423</td>\n",
       "    </tr>\n",
       "    <tr>\n",
       "      <th>1</th>\n",
       "      <td>2398795</td>\n",
       "      <td>1</td>\n",
       "      <td>2</td>\n",
       "      <td>3</td>\n",
       "      <td>7</td>\n",
       "      <td>15.0</td>\n",
       "      <td>196</td>\n",
       "      <td>1</td>\n",
       "      <td>1</td>\n",
       "      <td>Soda</td>\n",
       "      <td>77</td>\n",
       "      <td>7</td>\n",
       "      <td>9.0</td>\n",
       "      <td>both</td>\n",
       "      <td>Mid-range product</td>\n",
       "      <td>Slowest days</td>\n",
       "      <td>Average orders</td>\n",
       "      <td>10</td>\n",
       "      <td>New customer</td>\n",
       "      <td>6.367797</td>\n",
       "      <td>Low spender</td>\n",
       "      <td>20.5</td>\n",
       "      <td>Non-frequent Customer</td>\n",
       "      <td>Linda</td>\n",
       "      <td>Nguyen</td>\n",
       "      <td>Female</td>\n",
       "      <td>Alabama</td>\n",
       "      <td>31</td>\n",
       "      <td>2/17/2019</td>\n",
       "      <td>3</td>\n",
       "      <td>married</td>\n",
       "      <td>40423</td>\n",
       "    </tr>\n",
       "  </tbody>\n",
       "</table>\n",
       "</div>"
      ],
      "text/plain": [
       "   order_id user_id  order_number  order_day_of_week  order_hour_of_day  \\\n",
       "0   2539329       1             1                  2                  8   \n",
       "1   2398795       1             2                  3                  7   \n",
       "\n",
       "   days_since_prior_order  product_id  add_to_cart_order  reordered  \\\n",
       "0                     NaN         196                  1          0   \n",
       "1                    15.0         196                  1          1   \n",
       "\n",
       "  product_name  aisle_id  department_id  prices _merge    price_range_loc  \\\n",
       "0         Soda        77              7     9.0   both  Mid-range product   \n",
       "1         Soda        77              7     9.0   both  Mid-range product   \n",
       "\n",
       "     busiest_day busiest_period_of_day  max_order  loyalty_flag  avg_price  \\\n",
       "0  Regulary days        Average orders         10  New customer   6.367797   \n",
       "1   Slowest days        Average orders         10  New customer   6.367797   \n",
       "\n",
       "  Spending_flag  days_since_prior_order_median         Frequency_flag  \\\n",
       "0   Low spender                           20.5  Non-frequent Customer   \n",
       "1   Low spender                           20.5  Non-frequent Customer   \n",
       "\n",
       "  first_name second_name  gender    state  age date_joined  num_of_dependants  \\\n",
       "0      Linda      Nguyen  Female  Alabama   31   2/17/2019                  3   \n",
       "1      Linda      Nguyen  Female  Alabama   31   2/17/2019                  3   \n",
       "\n",
       "  family_status  income  \n",
       "0       married   40423  \n",
       "1       married   40423  "
      ]
     },
     "execution_count": 8,
     "metadata": {},
     "output_type": "execute_result"
    }
   ],
   "source": [
    "# Checking columns for personally identifiable information. Security and Etiquette.\n",
    "orders_products_all.head(2)"
   ]
  },
  {
   "cell_type": "markdown",
   "id": "4619134b-51d1-4b33-a763-0c7fdbdc3118",
   "metadata": {},
   "source": [
    "#### As we can see columns like 'first_name' and 'second_name' could be concerned with personally identifiable information. We should be very careful with this information. "
   ]
  },
  {
   "cell_type": "markdown",
   "id": "dff000b8-ec45-48b7-bf8d-096affbb7e1a",
   "metadata": {},
   "source": [
    "### 3. Compare customers behavior in different regions."
   ]
  },
  {
   "cell_type": "code",
   "execution_count": 9,
   "id": "5e39b45d-adb5-43fe-924b-905dd1470416",
   "metadata": {},
   "outputs": [],
   "source": [
    "# Let's create a list 'result' and append regions using for-loop function\n",
    "result = []\n",
    "for state in orders_products_all['state']: \n",
    "    if state in ['Maine', 'New Hampshire', 'Vermont', 'Massachusetts', 'Rhode Island', 'Connecticut', 'New York', 'Pennsylvania', 'New Jersey']: \n",
    "        result.append('Northeast')\n",
    "    elif state in ['Wisconsin', 'Michigan',  'Illinois', 'Indiana', 'Ohio', 'North Dakota', 'South Dakota', 'Nebraska', 'Kansas', 'Minnesota', 'Iowa', 'Missouri']: \n",
    "        result.append('Midwest')\n",
    "    elif state in ['Delaware', 'Maryland', 'District of Columbia', 'Virginia', 'West Virginia', 'North Carolina', 'South Carolina', 'Georgia', 'Florida', 'Kentucky', 'Tennessee', 'Mississippi', 'Alabama', 'Oklahoma', 'Texas', 'Arkansas', 'Louisiana']: \n",
    "        result.append('South')\n",
    "    else: result.append('West')"
   ]
  },
  {
   "cell_type": "code",
   "execution_count": 10,
   "id": "19b760fc-b1ae-4752-ac14-695162b2e337",
   "metadata": {},
   "outputs": [],
   "source": [
    "# Creating a column 'region'. \n",
    "orders_products_all['region'] = result"
   ]
  },
  {
   "cell_type": "code",
   "execution_count": 11,
   "id": "0ec51f93-db97-473a-bd12-dbb50921f044",
   "metadata": {},
   "outputs": [
    {
     "data": {
      "text/plain": [
       "region\n",
       "South        10791885\n",
       "West          8292913\n",
       "Midwest       7597325\n",
       "Northeast     5722736\n",
       "Name: count, dtype: int64"
      ]
     },
     "execution_count": 11,
     "metadata": {},
     "output_type": "execute_result"
    }
   ],
   "source": [
    "# Count values of 'regions'.\n",
    "orders_products_all['region'].value_counts(dropna = False)"
   ]
  },
  {
   "cell_type": "code",
   "execution_count": 12,
   "id": "365e01a5-008b-4d83-96bc-e62fa152b223",
   "metadata": {},
   "outputs": [],
   "source": [
    "# determine if there's a difference in spending habits between regions \n",
    "crosstab = pd.crosstab(orders_products_all['Spending_flag'], orders_products_all['region'], dropna = False)"
   ]
  },
  {
   "cell_type": "code",
   "execution_count": 13,
   "id": "bb27fac8-8589-4917-abee-c6fdc53ff63e",
   "metadata": {},
   "outputs": [],
   "source": [
    "# Copying crosstab data to clipboard.\n",
    "crosstab.to_clipboard()"
   ]
  },
  {
   "cell_type": "markdown",
   "id": "0d9f0b59-27f4-413b-9407-60fe36cf920a",
   "metadata": {},
   "source": [
    "#### Printing out crosstab output."
   ]
  },
  {
   "cell_type": "markdown",
   "id": "2a63910d-e81a-4012-9dcd-abce954b799c",
   "metadata": {},
   "source": [
    "Spending_flag\tMidwest\t Northeast\tSouth\t    West\n",
    "High spender\t155975\t 108225\t    209691\t    160354\n",
    "Low spender\t    7441350\t 5614511\t10582194\t8132559"
   ]
  },
  {
   "cell_type": "markdown",
   "id": "a3dcce19-b42e-490d-bda7-0db83c3e0d2e",
   "metadata": {},
   "source": [
    "### 4. Creating an exclusion flag for the low-activity customers."
   ]
  },
  {
   "cell_type": "code",
   "execution_count": 14,
   "id": "b94e90d8-1e98-48c7-9d37-aeb539101449",
   "metadata": {},
   "outputs": [],
   "source": [
    "# Creating condition for low_activity\n",
    "orders_products_all.loc[orders_products_all['max_order'] < 5, 'exclusion_flag'] = 'Low_activity'"
   ]
  },
  {
   "cell_type": "code",
   "execution_count": 15,
   "id": "9ab1ff4d-2c4f-4f15-a3e7-de7dd9de6d5d",
   "metadata": {},
   "outputs": [],
   "source": [
    "# Creating condition for Regular_activity\n",
    "orders_products_all.loc[orders_products_all['max_order'] >= 5, 'exclusion_flag'] = 'Regular_activity'"
   ]
  },
  {
   "cell_type": "code",
   "execution_count": 16,
   "id": "d0ecac97-20ba-415d-b5d4-d99242d32062",
   "metadata": {
    "scrolled": true
   },
   "outputs": [
    {
     "data": {
      "text/plain": [
       "exclusion_flag\n",
       "Regular_activity    30964564\n",
       "Low_activity         1440295\n",
       "Name: count, dtype: int64"
      ]
     },
     "execution_count": 16,
     "metadata": {},
     "output_type": "execute_result"
    }
   ],
   "source": [
    "# Count groups in exclusion_flag\n",
    "orders_products_all['exclusion_flag'].value_counts(dropna = False)"
   ]
  },
  {
   "cell_type": "code",
   "execution_count": 17,
   "id": "da0faff3-9442-461b-9631-e41185835819",
   "metadata": {},
   "outputs": [],
   "source": [
    "# creating a 'main_customers' dataframe\n",
    "main_customers = orders_products_all[orders_products_all['exclusion_flag'].isin(['Regular_activity'])]"
   ]
  },
  {
   "cell_type": "code",
   "execution_count": 18,
   "id": "5e9b4a27",
   "metadata": {},
   "outputs": [],
   "source": [
    "# creating a 'excluded_customers' dataframe\n",
    "excluded_customers = orders_products_all[orders_products_all['exclusion_flag'].isin(['Low_activity'])]"
   ]
  },
  {
   "cell_type": "code",
   "execution_count": 19,
   "id": "5c458887-cade-4e6c-a800-b210799532f8",
   "metadata": {},
   "outputs": [
    {
     "data": {
      "text/plain": [
       "exclusion_flag\n",
       "Regular_activity    30964564\n",
       "Name: count, dtype: int64"
      ]
     },
     "execution_count": 19,
     "metadata": {},
     "output_type": "execute_result"
    }
   ],
   "source": [
    "main_customers['exclusion_flag'].value_counts(dropna = False)"
   ]
  },
  {
   "cell_type": "code",
   "execution_count": 20,
   "id": "3dcd1867-96f9-49c8-8613-51e25ebb4fa2",
   "metadata": {},
   "outputs": [],
   "source": [
    "# Exporting dataframe 'exclusion' from Jupiter\n",
    "excluded_customers.to_pickle(os.path.join(path, '02 Data', 'Prepared Data', 'exclusion.pkl'))"
   ]
  },
  {
   "cell_type": "code",
   "execution_count": 106,
   "id": "0716b490",
   "metadata": {},
   "outputs": [],
   "source": [
    "# Exporting dataframe 'main_customers' from Jupiter\n",
    "main_customers.to_pickle(os.path.join(path, '02 Data', 'Prepared Data', 'exclusion.pkl'))"
   ]
  },
  {
   "cell_type": "code",
   "execution_count": 21,
   "id": "67169727",
   "metadata": {},
   "outputs": [],
   "source": [
    "# Setting the display to normal wiew, to avoid scientific notation.\n",
    "pd.options.display.max_rows =  None\n",
    "pd.options.display.float_format = '{:.2f}'.format"
   ]
  },
  {
   "cell_type": "code",
   "execution_count": 22,
   "id": "27c1d0d5-8d77-4df2-849f-40e5e65c73c5",
   "metadata": {},
   "outputs": [
    {
     "data": {
      "text/html": [
       "<div>\n",
       "<style scoped>\n",
       "    .dataframe tbody tr th:only-of-type {\n",
       "        vertical-align: middle;\n",
       "    }\n",
       "\n",
       "    .dataframe tbody tr th {\n",
       "        vertical-align: top;\n",
       "    }\n",
       "\n",
       "    .dataframe thead th {\n",
       "        text-align: right;\n",
       "    }\n",
       "</style>\n",
       "<table border=\"1\" class=\"dataframe\">\n",
       "  <thead>\n",
       "    <tr style=\"text-align: right;\">\n",
       "      <th></th>\n",
       "      <th>age</th>\n",
       "      <th>income</th>\n",
       "      <th>department_id</th>\n",
       "      <th>num_of_dependants</th>\n",
       "    </tr>\n",
       "  </thead>\n",
       "  <tbody>\n",
       "    <tr>\n",
       "      <th>count</th>\n",
       "      <td>30964564.00</td>\n",
       "      <td>30964564.00</td>\n",
       "      <td>30964564.00</td>\n",
       "      <td>30964564.00</td>\n",
       "    </tr>\n",
       "    <tr>\n",
       "      <th>mean</th>\n",
       "      <td>49.47</td>\n",
       "      <td>99675.87</td>\n",
       "      <td>9.92</td>\n",
       "      <td>1.50</td>\n",
       "    </tr>\n",
       "    <tr>\n",
       "      <th>std</th>\n",
       "      <td>18.49</td>\n",
       "      <td>43141.87</td>\n",
       "      <td>6.28</td>\n",
       "      <td>1.12</td>\n",
       "    </tr>\n",
       "    <tr>\n",
       "      <th>min</th>\n",
       "      <td>18.00</td>\n",
       "      <td>25903.00</td>\n",
       "      <td>1.00</td>\n",
       "      <td>0.00</td>\n",
       "    </tr>\n",
       "    <tr>\n",
       "      <th>25%</th>\n",
       "      <td>33.00</td>\n",
       "      <td>67292.00</td>\n",
       "      <td>4.00</td>\n",
       "      <td>1.00</td>\n",
       "    </tr>\n",
       "    <tr>\n",
       "      <th>50%</th>\n",
       "      <td>49.00</td>\n",
       "      <td>96765.00</td>\n",
       "      <td>9.00</td>\n",
       "      <td>2.00</td>\n",
       "    </tr>\n",
       "    <tr>\n",
       "      <th>75%</th>\n",
       "      <td>65.00</td>\n",
       "      <td>128102.00</td>\n",
       "      <td>16.00</td>\n",
       "      <td>3.00</td>\n",
       "    </tr>\n",
       "    <tr>\n",
       "      <th>max</th>\n",
       "      <td>81.00</td>\n",
       "      <td>593901.00</td>\n",
       "      <td>21.00</td>\n",
       "      <td>3.00</td>\n",
       "    </tr>\n",
       "  </tbody>\n",
       "</table>\n",
       "</div>"
      ],
      "text/plain": [
       "              age      income  department_id  num_of_dependants\n",
       "count 30964564.00 30964564.00    30964564.00        30964564.00\n",
       "mean        49.47    99675.87           9.92               1.50\n",
       "std         18.49    43141.87           6.28               1.12\n",
       "min         18.00    25903.00           1.00               0.00\n",
       "25%         33.00    67292.00           4.00               1.00\n",
       "50%         49.00    96765.00           9.00               2.00\n",
       "75%         65.00   128102.00          16.00               3.00\n",
       "max         81.00   593901.00          21.00               3.00"
      ]
     },
     "execution_count": 22,
     "metadata": {},
     "output_type": "execute_result"
    }
   ],
   "source": [
    "main_customers[['age', 'income', 'department_id', 'num_of_dependants']].describe()"
   ]
  },
  {
   "cell_type": "markdown",
   "id": "cf8df880",
   "metadata": {},
   "source": [
    "### 5.  Create a profiling variable based on age, income, certain goods in the “department_id” column, and number of dependents."
   ]
  },
  {
   "cell_type": "markdown",
   "id": "cd750ad7",
   "metadata": {},
   "source": [
    "##### 5.1 Based on age"
   ]
  },
  {
   "cell_type": "code",
   "execution_count": 23,
   "id": "cb8c61b4",
   "metadata": {},
   "outputs": [
    {
     "name": "stderr",
     "output_type": "stream",
     "text": [
      "C:\\Users\\azikb\\AppData\\Local\\Temp\\ipykernel_19960\\3175766132.py:2: SettingWithCopyWarning: \n",
      "A value is trying to be set on a copy of a slice from a DataFrame.\n",
      "Try using .loc[row_indexer,col_indexer] = value instead\n",
      "\n",
      "See the caveats in the documentation: https://pandas.pydata.org/pandas-docs/stable/user_guide/indexing.html#returning-a-view-versus-a-copy\n",
      "  main_customers.loc[main_customers['age'] <= 40, 'age_type'] = 'young_person'\n"
     ]
    }
   ],
   "source": [
    "# Creating a group based on age\n",
    "main_customers.loc[main_customers['age'] <= 40, 'age_type'] = 'young_person'"
   ]
  },
  {
   "cell_type": "code",
   "execution_count": 24,
   "id": "a843702b",
   "metadata": {},
   "outputs": [],
   "source": [
    "main_customers.loc[(main_customers['age'] >40) & (main_customers['age'] <60), 'age_type'] = 'adult_person' "
   ]
  },
  {
   "cell_type": "code",
   "execution_count": 25,
   "id": "3e543ec4",
   "metadata": {},
   "outputs": [],
   "source": [
    "main_customers.loc[main_customers['age'] >= 60, 'age_type'] = 'senior_person'"
   ]
  },
  {
   "cell_type": "code",
   "execution_count": 26,
   "id": "ef924275",
   "metadata": {},
   "outputs": [
    {
     "data": {
      "text/plain": [
       "age_type\n",
       "young_person     11148433\n",
       "senior_person    10574504\n",
       "adult_person      9241627\n",
       "Name: count, dtype: int64"
      ]
     },
     "execution_count": 26,
     "metadata": {},
     "output_type": "execute_result"
    }
   ],
   "source": [
    "main_customers['age_type'].value_counts(dropna = False)"
   ]
  },
  {
   "cell_type": "markdown",
   "id": "216199b4",
   "metadata": {},
   "source": [
    "##### 5.2 Based on income"
   ]
  },
  {
   "cell_type": "code",
   "execution_count": 27,
   "id": "92d50f35",
   "metadata": {},
   "outputs": [
    {
     "name": "stderr",
     "output_type": "stream",
     "text": [
      "C:\\Users\\azikb\\AppData\\Local\\Temp\\ipykernel_19960\\1497505672.py:2: SettingWithCopyWarning: \n",
      "A value is trying to be set on a copy of a slice from a DataFrame.\n",
      "Try using .loc[row_indexer,col_indexer] = value instead\n",
      "\n",
      "See the caveats in the documentation: https://pandas.pydata.org/pandas-docs/stable/user_guide/indexing.html#returning-a-view-versus-a-copy\n",
      "  main_customers.loc[main_customers['income'] < 50000, 'income_type'] = 'low_income'\n"
     ]
    }
   ],
   "source": [
    "# Creating a group based on income\n",
    "main_customers.loc[main_customers['income'] < 50000, 'income_type'] = 'low_income'"
   ]
  },
  {
   "cell_type": "code",
   "execution_count": 28,
   "id": "5ef12edd",
   "metadata": {},
   "outputs": [],
   "source": [
    "main_customers.loc[(main_customers['income'] >= 50000) & (main_customers['income'] <100000), 'income_type'] = 'average_income' "
   ]
  },
  {
   "cell_type": "code",
   "execution_count": 29,
   "id": "06bcd41b",
   "metadata": {},
   "outputs": [],
   "source": [
    "main_customers.loc[main_customers['income'] >= 100000, 'income_type'] = 'high_income'"
   ]
  },
  {
   "cell_type": "code",
   "execution_count": 30,
   "id": "f1faea47",
   "metadata": {},
   "outputs": [
    {
     "data": {
      "text/plain": [
       "income_type\n",
       "high_income       14207402\n",
       "average_income    13394608\n",
       "low_income         3362554\n",
       "Name: count, dtype: int64"
      ]
     },
     "execution_count": 30,
     "metadata": {},
     "output_type": "execute_result"
    }
   ],
   "source": [
    "main_customers['income_type'].value_counts(dropna = False)"
   ]
  },
  {
   "cell_type": "markdown",
   "id": "08e2391b",
   "metadata": {},
   "source": [
    "##### 5.3 Based on dependents"
   ]
  },
  {
   "cell_type": "code",
   "execution_count": 31,
   "id": "90b24ccc",
   "metadata": {},
   "outputs": [
    {
     "data": {
      "text/plain": [
       "3"
      ]
     },
     "execution_count": 31,
     "metadata": {},
     "output_type": "execute_result"
    }
   ],
   "source": [
    "# Checking max number of children in column\n",
    "main_customers['num_of_dependants'].max()"
   ]
  },
  {
   "cell_type": "code",
   "execution_count": 32,
   "id": "1461e4f6",
   "metadata": {},
   "outputs": [
    {
     "name": "stderr",
     "output_type": "stream",
     "text": [
      "C:\\Users\\azikb\\AppData\\Local\\Temp\\ipykernel_19960\\1478367195.py:1: SettingWithCopyWarning: \n",
      "A value is trying to be set on a copy of a slice from a DataFrame.\n",
      "Try using .loc[row_indexer,col_indexer] = value instead\n",
      "\n",
      "See the caveats in the documentation: https://pandas.pydata.org/pandas-docs/stable/user_guide/indexing.html#returning-a-view-versus-a-copy\n",
      "  main_customers.loc[main_customers['num_of_dependants'] <= 1, 'family_type'] = 'small_family'\n"
     ]
    }
   ],
   "source": [
    "main_customers.loc[main_customers['num_of_dependants'] <= 1, 'family_type'] = 'small_family'"
   ]
  },
  {
   "cell_type": "code",
   "execution_count": 33,
   "id": "9ee529d5",
   "metadata": {},
   "outputs": [],
   "source": [
    "main_customers.loc[main_customers['num_of_dependants'] == 2, 'family_type'] = 'middle_family'"
   ]
  },
  {
   "cell_type": "code",
   "execution_count": 34,
   "id": "fdfdf6c1",
   "metadata": {},
   "outputs": [],
   "source": [
    "main_customers.loc[main_customers['num_of_dependants'] >= 3, 'family_type'] = 'big_family'"
   ]
  },
  {
   "cell_type": "code",
   "execution_count": 35,
   "id": "4b4fdd1e",
   "metadata": {},
   "outputs": [
    {
     "data": {
      "text/plain": [
       "family_type\n",
       "small_family     15458787\n",
       "big_family        7772516\n",
       "middle_family     7733261\n",
       "Name: count, dtype: int64"
      ]
     },
     "execution_count": 35,
     "metadata": {},
     "output_type": "execute_result"
    }
   ],
   "source": [
    "main_customers['family_type'].value_counts(dropna = False)"
   ]
  },
  {
   "cell_type": "markdown",
   "id": "7ed38ebe",
   "metadata": {},
   "source": [
    "### 6. Create an appropriate visualization to show the distribution of profiles."
   ]
  },
  {
   "cell_type": "code",
   "execution_count": 36,
   "id": "acf66926",
   "metadata": {},
   "outputs": [
    {
     "data": {
      "text/plain": [
       "<Axes: xlabel='age_type'>"
      ]
     },
     "execution_count": 36,
     "metadata": {},
     "output_type": "execute_result"
    },
    {
     "data": {
      "image/png": "[encoded data removed]",
      "text/plain": [
       "<Figure size 640x480 with 1 Axes>"
      ]
     },
     "metadata": {},
     "output_type": "display_data"
    }
   ],
   "source": [
    "# Profile 'age' vizualisation\n",
    "main_customers['age_type'].value_counts().plot.bar()"
   ]
  },
  {
   "cell_type": "code",
   "execution_count": 37,
   "id": "800ffad8",
   "metadata": {},
   "outputs": [
    {
     "data": {
      "text/plain": [
       "<Axes: xlabel='income_type'>"
      ]
     },
     "execution_count": 37,
     "metadata": {},
     "output_type": "execute_result"
    },
    {
     "data": {
      "image/png": "[encoded data removed]",
      "text/plain": [
       "<Figure size 640x480 with 1 Axes>"
      ]
     },
     "metadata": {},
     "output_type": "display_data"
    }
   ],
   "source": [
    "# Profile 'income' vizualisation\n",
    "main_customers['income_type'].value_counts().plot.bar()"
   ]
  },
  {
   "cell_type": "code",
   "execution_count": 38,
   "id": "7b20a247",
   "metadata": {
    "scrolled": true
   },
   "outputs": [
    {
     "data": {
      "text/plain": [
       "<Axes: xlabel='family_type'>"
      ]
     },
     "execution_count": 38,
     "metadata": {},
     "output_type": "execute_result"
    },
    {
     "data": {
      "image/png": "[encoded data removed]",
      "text/plain": [
       "<Figure size 640x480 with 1 Axes>"
      ]
     },
     "metadata": {},
     "output_type": "display_data"
    }
   ],
   "source": [
    "# Profile 'family_type' vizualisation\n",
    "main_customers['family_type'].value_counts().plot.bar()"
   ]
  },
  {
   "cell_type": "markdown",
   "id": "e0c54e1c",
   "metadata": {},
   "source": [
    " ### 7. Aggregate the max, mean, and min variables on a customer-profile level for usage frequency and expenditure."
   ]
  },
  {
   "cell_type": "markdown",
   "id": "731f961c",
   "metadata": {},
   "source": [
    "##### 7.1 Customers profile according order_number(frequency)"
   ]
  },
  {
   "cell_type": "code",
   "execution_count": 70,
   "id": "4910dd14",
   "metadata": {},
   "outputs": [
    {
     "data": {
      "text/plain": [
       "Index(['order_id', 'user_id', 'order_number', 'order_day_of_week',\n",
       "       'order_hour_of_day', 'days_since_prior_order', 'product_id',\n",
       "       'add_to_cart_order', 'reordered', 'product_name', 'aisle_id',\n",
       "       'department_id', 'prices', '_merge', 'price_range_loc', 'busiest_day',\n",
       "       'busiest_period_of_day', 'max_order', 'loyalty_flag', 'avg_price',\n",
       "       'Spending_flag', 'days_since_prior_order_median', 'Frequency_flag',\n",
       "       'first_name', 'second_name', 'gender', 'state', 'age', 'date_joined',\n",
       "       'num_of_dependants', 'family_status', 'income', 'region',\n",
       "       'exclusion_flag', 'age_type', 'income_type', 'family_type',\n",
       "       'expenditures'],\n",
       "      dtype='object')"
      ]
     },
     "execution_count": 70,
     "metadata": {},
     "output_type": "execute_result"
    }
   ],
   "source": [
    "main_customers.columns"
   ]
  },
  {
   "cell_type": "code",
   "execution_count": 71,
   "id": "34b60048",
   "metadata": {},
   "outputs": [
    {
     "data": {
      "text/html": [
       "<div>\n",
       "<style scoped>\n",
       "    .dataframe tbody tr th:only-of-type {\n",
       "        vertical-align: middle;\n",
       "    }\n",
       "\n",
       "    .dataframe tbody tr th {\n",
       "        vertical-align: top;\n",
       "    }\n",
       "\n",
       "    .dataframe thead tr th {\n",
       "        text-align: left;\n",
       "    }\n",
       "\n",
       "    .dataframe thead tr:last-of-type th {\n",
       "        text-align: right;\n",
       "    }\n",
       "</style>\n",
       "<table border=\"1\" class=\"dataframe\">\n",
       "  <thead>\n",
       "    <tr>\n",
       "      <th></th>\n",
       "      <th colspan=\"3\" halign=\"left\">days_since_prior_order</th>\n",
       "    </tr>\n",
       "    <tr>\n",
       "      <th></th>\n",
       "      <th>mean</th>\n",
       "      <th>min</th>\n",
       "      <th>max</th>\n",
       "    </tr>\n",
       "    <tr>\n",
       "      <th>age_type</th>\n",
       "      <th></th>\n",
       "      <th></th>\n",
       "      <th></th>\n",
       "    </tr>\n",
       "  </thead>\n",
       "  <tbody>\n",
       "    <tr>\n",
       "      <th>adult_person</th>\n",
       "      <td>10.82</td>\n",
       "      <td>0.00</td>\n",
       "      <td>30.00</td>\n",
       "    </tr>\n",
       "    <tr>\n",
       "      <th>senior_person</th>\n",
       "      <td>10.80</td>\n",
       "      <td>0.00</td>\n",
       "      <td>30.00</td>\n",
       "    </tr>\n",
       "    <tr>\n",
       "      <th>young_person</th>\n",
       "      <td>10.81</td>\n",
       "      <td>0.00</td>\n",
       "      <td>30.00</td>\n",
       "    </tr>\n",
       "  </tbody>\n",
       "</table>\n",
       "</div>"
      ],
      "text/plain": [
       "              days_since_prior_order           \n",
       "                                mean  min   max\n",
       "age_type                                       \n",
       "adult_person                   10.82 0.00 30.00\n",
       "senior_person                  10.80 0.00 30.00\n",
       "young_person                   10.81 0.00 30.00"
      ]
     },
     "execution_count": 71,
     "metadata": {},
     "output_type": "execute_result"
    }
   ],
   "source": [
    "# Purchase frequency by age _type\n",
    "main_customers.groupby('age_type').agg({'days_since_prior_order': ['mean', 'min', 'max']})"
   ]
  },
  {
   "cell_type": "code",
   "execution_count": 72,
   "id": "5b2a62fb",
   "metadata": {},
   "outputs": [
    {
     "data": {
      "text/html": [
       "<div>\n",
       "<style scoped>\n",
       "    .dataframe tbody tr th:only-of-type {\n",
       "        vertical-align: middle;\n",
       "    }\n",
       "\n",
       "    .dataframe tbody tr th {\n",
       "        vertical-align: top;\n",
       "    }\n",
       "\n",
       "    .dataframe thead tr th {\n",
       "        text-align: left;\n",
       "    }\n",
       "\n",
       "    .dataframe thead tr:last-of-type th {\n",
       "        text-align: right;\n",
       "    }\n",
       "</style>\n",
       "<table border=\"1\" class=\"dataframe\">\n",
       "  <thead>\n",
       "    <tr>\n",
       "      <th></th>\n",
       "      <th colspan=\"3\" halign=\"left\">days_since_prior_order</th>\n",
       "    </tr>\n",
       "    <tr>\n",
       "      <th></th>\n",
       "      <th>mean</th>\n",
       "      <th>min</th>\n",
       "      <th>max</th>\n",
       "    </tr>\n",
       "    <tr>\n",
       "      <th>income_type</th>\n",
       "      <th></th>\n",
       "      <th></th>\n",
       "      <th></th>\n",
       "    </tr>\n",
       "  </thead>\n",
       "  <tbody>\n",
       "    <tr>\n",
       "      <th>average_income</th>\n",
       "      <td>10.76</td>\n",
       "      <td>0.00</td>\n",
       "      <td>30.00</td>\n",
       "    </tr>\n",
       "    <tr>\n",
       "      <th>high_income</th>\n",
       "      <td>10.77</td>\n",
       "      <td>0.00</td>\n",
       "      <td>30.00</td>\n",
       "    </tr>\n",
       "    <tr>\n",
       "      <th>low_income</th>\n",
       "      <td>11.18</td>\n",
       "      <td>0.00</td>\n",
       "      <td>30.00</td>\n",
       "    </tr>\n",
       "  </tbody>\n",
       "</table>\n",
       "</div>"
      ],
      "text/plain": [
       "               days_since_prior_order           \n",
       "                                 mean  min   max\n",
       "income_type                                     \n",
       "average_income                  10.76 0.00 30.00\n",
       "high_income                     10.77 0.00 30.00\n",
       "low_income                      11.18 0.00 30.00"
      ]
     },
     "execution_count": 72,
     "metadata": {},
     "output_type": "execute_result"
    }
   ],
   "source": [
    "# Purchase frequency by income_type\n",
    "main_customers.groupby('income_type').agg({'days_since_prior_order': ['mean', 'min', 'max']}) "
   ]
  },
  {
   "cell_type": "code",
   "execution_count": 73,
   "id": "263aaabf",
   "metadata": {},
   "outputs": [
    {
     "data": {
      "text/html": [
       "<div>\n",
       "<style scoped>\n",
       "    .dataframe tbody tr th:only-of-type {\n",
       "        vertical-align: middle;\n",
       "    }\n",
       "\n",
       "    .dataframe tbody tr th {\n",
       "        vertical-align: top;\n",
       "    }\n",
       "\n",
       "    .dataframe thead tr th {\n",
       "        text-align: left;\n",
       "    }\n",
       "\n",
       "    .dataframe thead tr:last-of-type th {\n",
       "        text-align: right;\n",
       "    }\n",
       "</style>\n",
       "<table border=\"1\" class=\"dataframe\">\n",
       "  <thead>\n",
       "    <tr>\n",
       "      <th></th>\n",
       "      <th colspan=\"3\" halign=\"left\">days_since_prior_order</th>\n",
       "    </tr>\n",
       "    <tr>\n",
       "      <th></th>\n",
       "      <th>mean</th>\n",
       "      <th>min</th>\n",
       "      <th>max</th>\n",
       "    </tr>\n",
       "    <tr>\n",
       "      <th>family_type</th>\n",
       "      <th></th>\n",
       "      <th></th>\n",
       "      <th></th>\n",
       "    </tr>\n",
       "  </thead>\n",
       "  <tbody>\n",
       "    <tr>\n",
       "      <th>big_family</th>\n",
       "      <td>10.82</td>\n",
       "      <td>0.00</td>\n",
       "      <td>30.00</td>\n",
       "    </tr>\n",
       "    <tr>\n",
       "      <th>middle_family</th>\n",
       "      <td>10.83</td>\n",
       "      <td>0.00</td>\n",
       "      <td>30.00</td>\n",
       "    </tr>\n",
       "    <tr>\n",
       "      <th>small_family</th>\n",
       "      <td>10.80</td>\n",
       "      <td>0.00</td>\n",
       "      <td>30.00</td>\n",
       "    </tr>\n",
       "  </tbody>\n",
       "</table>\n",
       "</div>"
      ],
      "text/plain": [
       "              days_since_prior_order           \n",
       "                                mean  min   max\n",
       "family_type                                    \n",
       "big_family                     10.82 0.00 30.00\n",
       "middle_family                  10.83 0.00 30.00\n",
       "small_family                   10.80 0.00 30.00"
      ]
     },
     "execution_count": 73,
     "metadata": {},
     "output_type": "execute_result"
    }
   ],
   "source": [
    "# Purchase frequency by family_type\n",
    "main_customers.groupby('family_type').agg({'days_since_prior_order': ['mean', 'min', 'max']}) "
   ]
  },
  {
   "cell_type": "markdown",
   "id": "9aaab5b7",
   "metadata": {},
   "source": [
    "#####  7.2 Customers profile according sum of price (espenditures)"
   ]
  },
  {
   "cell_type": "code",
   "execution_count": 44,
   "id": "2af8826e",
   "metadata": {},
   "outputs": [
    {
     "name": "stderr",
     "output_type": "stream",
     "text": [
      "C:\\Users\\azikb\\AppData\\Local\\Temp\\ipykernel_19960\\1846411099.py:1: FutureWarning: The provided callable <function sum at 0x00000232EBE83F60> is currently using SeriesGroupBy.sum. In a future version of pandas, the provided callable will be used directly. To keep current behavior pass the string \"sum\" instead.\n",
      "  main_customers['expenditures'] = main_customers.groupby('user_id')['prices'].transform(np.sum)\n",
      "C:\\Users\\azikb\\AppData\\Local\\Temp\\ipykernel_19960\\1846411099.py:1: SettingWithCopyWarning: \n",
      "A value is trying to be set on a copy of a slice from a DataFrame.\n",
      "Try using .loc[row_indexer,col_indexer] = value instead\n",
      "\n",
      "See the caveats in the documentation: https://pandas.pydata.org/pandas-docs/stable/user_guide/indexing.html#returning-a-view-versus-a-copy\n",
      "  main_customers['expenditures'] = main_customers.groupby('user_id')['prices'].transform(np.sum)\n"
     ]
    }
   ],
   "source": [
    "# Creating new column 'expenditures'. Column identifies sum of expenditures by each user.\n",
    "main_customers['expenditures'] = main_customers.groupby('user_id')['prices'].transform(np.sum)"
   ]
  },
  {
   "cell_type": "code",
   "execution_count": 45,
   "id": "dc50fa3c",
   "metadata": {},
   "outputs": [
    {
     "data": {
      "text/html": [
       "<div>\n",
       "<style scoped>\n",
       "    .dataframe tbody tr th:only-of-type {\n",
       "        vertical-align: middle;\n",
       "    }\n",
       "\n",
       "    .dataframe tbody tr th {\n",
       "        vertical-align: top;\n",
       "    }\n",
       "\n",
       "    .dataframe thead tr th {\n",
       "        text-align: left;\n",
       "    }\n",
       "\n",
       "    .dataframe thead tr:last-of-type th {\n",
       "        text-align: right;\n",
       "    }\n",
       "</style>\n",
       "<table border=\"1\" class=\"dataframe\">\n",
       "  <thead>\n",
       "    <tr>\n",
       "      <th></th>\n",
       "      <th colspan=\"3\" halign=\"left\">expenditures</th>\n",
       "    </tr>\n",
       "    <tr>\n",
       "      <th></th>\n",
       "      <th>mean</th>\n",
       "      <th>min</th>\n",
       "      <th>max</th>\n",
       "    </tr>\n",
       "    <tr>\n",
       "      <th>family_type</th>\n",
       "      <th></th>\n",
       "      <th></th>\n",
       "      <th></th>\n",
       "    </tr>\n",
       "  </thead>\n",
       "  <tbody>\n",
       "    <tr>\n",
       "      <th>big_family</th>\n",
       "      <td>3420.78</td>\n",
       "      <td>10.10</td>\n",
       "      <td>21509.20</td>\n",
       "    </tr>\n",
       "    <tr>\n",
       "      <th>middle_family</th>\n",
       "      <td>3387.96</td>\n",
       "      <td>7.00</td>\n",
       "      <td>26394.90</td>\n",
       "    </tr>\n",
       "    <tr>\n",
       "      <th>small_family</th>\n",
       "      <td>3432.29</td>\n",
       "      <td>5.00</td>\n",
       "      <td>24307.10</td>\n",
       "    </tr>\n",
       "  </tbody>\n",
       "</table>\n",
       "</div>"
      ],
      "text/plain": [
       "              expenditures               \n",
       "                      mean   min      max\n",
       "family_type                              \n",
       "big_family         3420.78 10.10 21509.20\n",
       "middle_family      3387.96  7.00 26394.90\n",
       "small_family       3432.29  5.00 24307.10"
      ]
     },
     "execution_count": 45,
     "metadata": {},
     "output_type": "execute_result"
    }
   ],
   "source": [
    "# Expenditure by family_type\n",
    "main_customers.groupby('family_type').agg({'expenditures': ['mean', 'min', 'max']})"
   ]
  },
  {
   "cell_type": "code",
   "execution_count": 47,
   "id": "158310cc",
   "metadata": {
    "scrolled": true
   },
   "outputs": [
    {
     "data": {
      "text/html": [
       "<div>\n",
       "<style scoped>\n",
       "    .dataframe tbody tr th:only-of-type {\n",
       "        vertical-align: middle;\n",
       "    }\n",
       "\n",
       "    .dataframe tbody tr th {\n",
       "        vertical-align: top;\n",
       "    }\n",
       "\n",
       "    .dataframe thead tr th {\n",
       "        text-align: left;\n",
       "    }\n",
       "\n",
       "    .dataframe thead tr:last-of-type th {\n",
       "        text-align: right;\n",
       "    }\n",
       "</style>\n",
       "<table border=\"1\" class=\"dataframe\">\n",
       "  <thead>\n",
       "    <tr>\n",
       "      <th></th>\n",
       "      <th colspan=\"3\" halign=\"left\">expenditures</th>\n",
       "    </tr>\n",
       "    <tr>\n",
       "      <th></th>\n",
       "      <th>mean</th>\n",
       "      <th>min</th>\n",
       "      <th>max</th>\n",
       "    </tr>\n",
       "    <tr>\n",
       "      <th>age_type</th>\n",
       "      <th></th>\n",
       "      <th></th>\n",
       "      <th></th>\n",
       "    </tr>\n",
       "  </thead>\n",
       "  <tbody>\n",
       "    <tr>\n",
       "      <th>adult_person</th>\n",
       "      <td>3396.84</td>\n",
       "      <td>5.00</td>\n",
       "      <td>21509.20</td>\n",
       "    </tr>\n",
       "    <tr>\n",
       "      <th>senior_person</th>\n",
       "      <td>3407.55</td>\n",
       "      <td>6.80</td>\n",
       "      <td>26394.90</td>\n",
       "    </tr>\n",
       "    <tr>\n",
       "      <th>young_person</th>\n",
       "      <td>3446.38</td>\n",
       "      <td>7.00</td>\n",
       "      <td>22696.90</td>\n",
       "    </tr>\n",
       "  </tbody>\n",
       "</table>\n",
       "</div>"
      ],
      "text/plain": [
       "              expenditures              \n",
       "                      mean  min      max\n",
       "age_type                                \n",
       "adult_person       3396.84 5.00 21509.20\n",
       "senior_person      3407.55 6.80 26394.90\n",
       "young_person       3446.38 7.00 22696.90"
      ]
     },
     "execution_count": 47,
     "metadata": {},
     "output_type": "execute_result"
    }
   ],
   "source": [
    "# # Expenditure by age_type\n",
    "main_customers.groupby('age_type').agg({'expenditures': ['mean', 'min', 'max']})"
   ]
  },
  {
   "cell_type": "code",
   "execution_count": 49,
   "id": "0729887a",
   "metadata": {},
   "outputs": [
    {
     "data": {
      "text/html": [
       "<div>\n",
       "<style scoped>\n",
       "    .dataframe tbody tr th:only-of-type {\n",
       "        vertical-align: middle;\n",
       "    }\n",
       "\n",
       "    .dataframe tbody tr th {\n",
       "        vertical-align: top;\n",
       "    }\n",
       "\n",
       "    .dataframe thead tr th {\n",
       "        text-align: left;\n",
       "    }\n",
       "\n",
       "    .dataframe thead tr:last-of-type th {\n",
       "        text-align: right;\n",
       "    }\n",
       "</style>\n",
       "<table border=\"1\" class=\"dataframe\">\n",
       "  <thead>\n",
       "    <tr>\n",
       "      <th></th>\n",
       "      <th colspan=\"3\" halign=\"left\">expenditures</th>\n",
       "    </tr>\n",
       "    <tr>\n",
       "      <th></th>\n",
       "      <th>mean</th>\n",
       "      <th>min</th>\n",
       "      <th>max</th>\n",
       "    </tr>\n",
       "    <tr>\n",
       "      <th>income_type</th>\n",
       "      <th></th>\n",
       "      <th></th>\n",
       "      <th></th>\n",
       "    </tr>\n",
       "  </thead>\n",
       "  <tbody>\n",
       "    <tr>\n",
       "      <th>average_income</th>\n",
       "      <td>3529.54</td>\n",
       "      <td>11.20</td>\n",
       "      <td>22696.90</td>\n",
       "    </tr>\n",
       "    <tr>\n",
       "      <th>high_income</th>\n",
       "      <td>3524.70</td>\n",
       "      <td>24.70</td>\n",
       "      <td>26394.90</td>\n",
       "    </tr>\n",
       "    <tr>\n",
       "      <th>low_income</th>\n",
       "      <td>2525.92</td>\n",
       "      <td>5.00</td>\n",
       "      <td>24307.10</td>\n",
       "    </tr>\n",
       "  </tbody>\n",
       "</table>\n",
       "</div>"
      ],
      "text/plain": [
       "               expenditures               \n",
       "                       mean   min      max\n",
       "income_type                               \n",
       "average_income      3529.54 11.20 22696.90\n",
       "high_income         3524.70 24.70 26394.90\n",
       "low_income          2525.92  5.00 24307.10"
      ]
     },
     "execution_count": 49,
     "metadata": {},
     "output_type": "execute_result"
    }
   ],
   "source": [
    "# Expenditure by income_type\n",
    "main_customers.groupby('income_type').agg({'expenditures': ['mean', 'min', 'max']})"
   ]
  },
  {
   "cell_type": "markdown",
   "id": "2e94cb21",
   "metadata": {},
   "source": [
    "### 8. Compare your customer profiles with regions and departments. Can you identify a link between them? Customers may demonstrate different behaviors across regions, which could make this information important."
   ]
  },
  {
   "cell_type": "code",
   "execution_count": 90,
   "id": "decad334",
   "metadata": {},
   "outputs": [
    {
     "data": {
      "image/png": "[encoded data removed]",
      "text/plain": [
       "<Figure size 1200x600 with 1 Axes>"
      ]
     },
     "metadata": {},
     "output_type": "display_data"
    }
   ],
   "source": [
    "#  Comparing customers profile 'family_type' with region\n",
    "plt.figure(figsize=(12, 6))\n",
    "sns.countplot(data=main_customers, x='region', hue='family_type')\n",
    "plt.title('Number_of_dependants type distribution by Region ')\n",
    "plt.xlabel('region')\n",
    "plt.ylabel('count')\n",
    "plt.legend(title='region')\n",
    "plt.show()\n"
   ]
  },
  {
   "cell_type": "code",
   "execution_count": 103,
   "id": "5907c490",
   "metadata": {},
   "outputs": [
    {
     "data": {
      "image/png": "[encoded data removed]",
      "text/plain": [
       "<Figure size 1200x600 with 1 Axes>"
      ]
     },
     "metadata": {},
     "output_type": "display_data"
    }
   ],
   "source": [
    "#  Comparing customers profile 'income_type' with region \n",
    "plt.figure(figsize=(12, 6))\n",
    "countplot_income_type_region = sns.countplot(data=main_customers, x='region', hue='income_type')\n",
    "plt.title('Income type distribution by Region ')\n",
    "plt.xlabel('region')\n",
    "plt.ylabel('count')\n",
    "plt.legend(title='region')\n",
    "plt.show()"
   ]
  },
  {
   "cell_type": "code",
   "execution_count": 105,
   "id": "8e424708",
   "metadata": {},
   "outputs": [],
   "source": [
    "# Exporting 'income_type' countplot by region\n",
    "countplot_income_type_region.figure.savefig(os.path.join(path, '04 Analysis','Visualizations', 'count_plot_income_type_region.png'))"
   ]
  },
  {
   "cell_type": "code",
   "execution_count": 94,
   "id": "9e7e8b01",
   "metadata": {},
   "outputs": [
    {
     "data": {
      "image/png": "[encoded data removed]",
      "text/plain": [
       "<Figure size 1200x600 with 1 Axes>"
      ]
     },
     "metadata": {},
     "output_type": "display_data"
    }
   ],
   "source": [
    "#  Comparing customers profile 'family_type' with department\n",
    "plt.figure(figsize=(12, 6))\n",
    "sns.countplot(data=main_customers, x='department_id', hue='family_type')\n",
    "plt.title('Customers profile (family_type) distribution by departments ')\n",
    "plt.xlabel('department_id')\n",
    "plt.ylabel('count')\n",
    "plt.legend(title='departments')\n",
    "plt.show()"
   ]
  },
  {
   "cell_type": "code",
   "execution_count": 101,
   "id": "1b830108",
   "metadata": {},
   "outputs": [
    {
     "data": {
      "image/png": "[encoded data removed]",
      "text/plain": [
       "<Figure size 1200x600 with 1 Axes>"
      ]
     },
     "metadata": {},
     "output_type": "display_data"
    }
   ],
   "source": [
    "#  Comparing customers profile 'income' with department\n",
    "plt.figure(figsize=(12, 6))\n",
    "count_plot_income_type = sns.countplot(data=main_customers, x='department_id', hue='income_type')\n",
    "plt.title('Customers profile (income_type) distribution by departments ')\n",
    "plt.xlabel('department_id')\n",
    "plt.ylabel('count')\n",
    "plt.legend(title='departments')\n",
    "plt.show()"
   ]
  },
  {
   "cell_type": "code",
   "execution_count": 102,
   "id": "1f4f93f1",
   "metadata": {},
   "outputs": [],
   "source": [
    "# Exorting 'income_type' countplot\n",
    "count_plot_income_type.figure.savefig(os.path.join(path, '04 Analysis','Visualizations', 'count_plot_income_type.png'))"
   ]
  },
  {
   "cell_type": "code",
   "execution_count": 96,
   "id": "10d3866a",
   "metadata": {},
   "outputs": [
    {
     "data": {
      "text/plain": [
       "department_id\n",
       "4     9079273\n",
       "16    5177182\n",
       "19    2766406\n",
       "7     2571901\n",
       "1     2121731\n",
       "13    1782705\n",
       "3     1120828\n",
       "15    1012074\n",
       "20    1003834\n",
       "9      822136\n",
       "17     699857\n",
       "12     674781\n",
       "14     670850\n",
       "11     424306\n",
       "18     410392\n",
       "6      255991\n",
       "5      144627\n",
       "8       93060\n",
       "21      64768\n",
       "2       34411\n",
       "10      33451\n",
       "Name: count, dtype: int64"
      ]
     },
     "execution_count": 96,
     "metadata": {},
     "output_type": "execute_result"
    }
   ],
   "source": [
    "# Department frequency\n",
    "main_customers['department_id'].value_counts(dropna = False)"
   ]
  },
  {
   "cell_type": "code",
   "execution_count": 98,
   "id": "2caa727c",
   "metadata": {},
   "outputs": [
    {
     "data": {
      "image/png": "[encoded data removed]",
      "text/plain": [
       "<Figure size 640x480 with 1 Axes>"
      ]
     },
     "metadata": {},
     "output_type": "display_data"
    }
   ],
   "source": [
    "# Creating a 'department' frequency plot\n",
    "bar_department_frequency = main_customers['department_id'].value_counts().plot.bar()"
   ]
  },
  {
   "cell_type": "code",
   "execution_count": 100,
   "id": "4b000731",
   "metadata": {},
   "outputs": [],
   "source": [
    "# Exorting bar slot\n",
    "bar_department_frequency.figure.savefig(os.path.join(path, '04 Analysis','Visualizations', 'bar_department_frequency.png'))"
   ]
  },
  {
   "cell_type": "code",
   "execution_count": null,
   "id": "05c430fd",
   "metadata": {},
   "outputs": [],
   "source": []
  }
 ],
 "metadata": {
  "kernelspec": {
   "display_name": "Python 3 (ipykernel)",
   "language": "python",
   "name": "python3"
  },
  "language_info": {
   "codemirror_mode": {
    "name": "ipython",
    "version": 3
   },
   "file_extension": ".py",
   "mimetype": "text/x-python",
   "name": "python",
   "nbconvert_exporter": "python",
   "pygments_lexer": "ipython3",
   "version": "3.11.7"
  }
 },
 "nbformat": 4,
 "nbformat_minor": 5
}
